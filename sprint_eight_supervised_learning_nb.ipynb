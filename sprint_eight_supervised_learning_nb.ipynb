{
 "cells": [
  {
   "cell_type": "markdown",
   "metadata": {},
   "source": [
    "### Author: Allan Jeeboo \n",
    "### Preferred Name: Vyncent S. A. van der Wolvenhuizen \n",
    "### Affiliation: Data Science Student at TripleTen \n",
    "### Email: vanderwolvenhuizen.vyncent@proton.me\n",
    "### Date Started: 2025-03-21 \n",
    "### Last Updated: 20215-04-02 09:25"
   ]
  },
  {
   "cell_type": "markdown",
   "metadata": {},
   "source": [
    "# 1.0 Introduction\n",
    "\n",
    "In this project, we step into the role of analysts tasked with predicting whether a customer will leave Beta Bank. The bank is facing a gradual loss of customers, which is eroding its client base month by month. Recognizing that retaining existing customers is more cost-effective than acquiring new ones, the bank has provided data on clients’ historical behavior and contract terminations.\n",
    "\n",
    "Our objective is to build a predictive model with an F1 score of at least 0.59 and evaluate its performance on a test set. Additionally, we will measure the AUC-ROC metric and compare it with the F1 score to gain deeper insights into the model's effectiveness.\n",
    "\n",
    "Workflow Path:\n",
    "1. **Data Import and Overview**: We will begin by importing the dataset and conducting a preliminary exploration.\n",
    "2. **Data Cleaning and Preprocessing**: Next, we will clean the data, standardize column names, and address any inconsistencies or redundancies.\n",
    "3. **Exploratory Data Analysis (EDA)**: We will analyze the data to uncover patterns and relationships that may influence customer behavior.\n",
    "4. **Class Imbalance Analysis**: Since the dataset is imbalanced, we will examine the distribution of classes and train an initial model without addressing the imbalance to establish a baseline.\n",
    "5. **Model Improvement**: To enhance the model's performance, we will employ at least two techniques to address class imbalance. Using the training set, we will fine-tune parameters, train multiple models, and select the best-performing one.\n",
    "6. **Final Testing**: Finally, we will evaluate the chosen model on the test set and summarize our findings."
   ]
  },
  {
   "cell_type": "markdown",
   "metadata": {},
   "source": [
    "### 1.1 Data Import & Overview\n",
    "First let's import the necessary libraries and modules for this project, then import the data. To get an overview of what we're working with, let's look at the first five rows of the data, print the shape, and print the data types. "
   ]
  },
  {
   "cell_type": "code",
   "execution_count": 1,
   "metadata": {},
   "outputs": [
    {
     "data": {
      "text/html": [
       "<div>\n",
       "<style scoped>\n",
       "    .dataframe tbody tr th:only-of-type {\n",
       "        vertical-align: middle;\n",
       "    }\n",
       "\n",
       "    .dataframe tbody tr th {\n",
       "        vertical-align: top;\n",
       "    }\n",
       "\n",
       "    .dataframe thead th {\n",
       "        text-align: right;\n",
       "    }\n",
       "</style>\n",
       "<table border=\"1\" class=\"dataframe\">\n",
       "  <thead>\n",
       "    <tr style=\"text-align: right;\">\n",
       "      <th></th>\n",
       "      <th>RowNumber</th>\n",
       "      <th>CustomerId</th>\n",
       "      <th>Surname</th>\n",
       "      <th>CreditScore</th>\n",
       "      <th>Geography</th>\n",
       "      <th>Gender</th>\n",
       "      <th>Age</th>\n",
       "      <th>Tenure</th>\n",
       "      <th>Balance</th>\n",
       "      <th>NumOfProducts</th>\n",
       "      <th>HasCrCard</th>\n",
       "      <th>IsActiveMember</th>\n",
       "      <th>EstimatedSalary</th>\n",
       "      <th>Exited</th>\n",
       "    </tr>\n",
       "  </thead>\n",
       "  <tbody>\n",
       "    <tr>\n",
       "      <th>0</th>\n",
       "      <td>1</td>\n",
       "      <td>15634602</td>\n",
       "      <td>Hargrave</td>\n",
       "      <td>619</td>\n",
       "      <td>France</td>\n",
       "      <td>Female</td>\n",
       "      <td>42</td>\n",
       "      <td>2.0</td>\n",
       "      <td>0.00</td>\n",
       "      <td>1</td>\n",
       "      <td>1</td>\n",
       "      <td>1</td>\n",
       "      <td>101348.88</td>\n",
       "      <td>1</td>\n",
       "    </tr>\n",
       "    <tr>\n",
       "      <th>1</th>\n",
       "      <td>2</td>\n",
       "      <td>15647311</td>\n",
       "      <td>Hill</td>\n",
       "      <td>608</td>\n",
       "      <td>Spain</td>\n",
       "      <td>Female</td>\n",
       "      <td>41</td>\n",
       "      <td>1.0</td>\n",
       "      <td>83807.86</td>\n",
       "      <td>1</td>\n",
       "      <td>0</td>\n",
       "      <td>1</td>\n",
       "      <td>112542.58</td>\n",
       "      <td>0</td>\n",
       "    </tr>\n",
       "    <tr>\n",
       "      <th>2</th>\n",
       "      <td>3</td>\n",
       "      <td>15619304</td>\n",
       "      <td>Onio</td>\n",
       "      <td>502</td>\n",
       "      <td>France</td>\n",
       "      <td>Female</td>\n",
       "      <td>42</td>\n",
       "      <td>8.0</td>\n",
       "      <td>159660.80</td>\n",
       "      <td>3</td>\n",
       "      <td>1</td>\n",
       "      <td>0</td>\n",
       "      <td>113931.57</td>\n",
       "      <td>1</td>\n",
       "    </tr>\n",
       "    <tr>\n",
       "      <th>3</th>\n",
       "      <td>4</td>\n",
       "      <td>15701354</td>\n",
       "      <td>Boni</td>\n",
       "      <td>699</td>\n",
       "      <td>France</td>\n",
       "      <td>Female</td>\n",
       "      <td>39</td>\n",
       "      <td>1.0</td>\n",
       "      <td>0.00</td>\n",
       "      <td>2</td>\n",
       "      <td>0</td>\n",
       "      <td>0</td>\n",
       "      <td>93826.63</td>\n",
       "      <td>0</td>\n",
       "    </tr>\n",
       "    <tr>\n",
       "      <th>4</th>\n",
       "      <td>5</td>\n",
       "      <td>15737888</td>\n",
       "      <td>Mitchell</td>\n",
       "      <td>850</td>\n",
       "      <td>Spain</td>\n",
       "      <td>Female</td>\n",
       "      <td>43</td>\n",
       "      <td>2.0</td>\n",
       "      <td>125510.82</td>\n",
       "      <td>1</td>\n",
       "      <td>1</td>\n",
       "      <td>1</td>\n",
       "      <td>79084.10</td>\n",
       "      <td>0</td>\n",
       "    </tr>\n",
       "  </tbody>\n",
       "</table>\n",
       "</div>"
      ],
      "text/plain": [
       "   RowNumber  CustomerId   Surname  CreditScore Geography  Gender  Age  \\\n",
       "0          1    15634602  Hargrave          619    France  Female   42   \n",
       "1          2    15647311      Hill          608     Spain  Female   41   \n",
       "2          3    15619304      Onio          502    France  Female   42   \n",
       "3          4    15701354      Boni          699    France  Female   39   \n",
       "4          5    15737888  Mitchell          850     Spain  Female   43   \n",
       "\n",
       "   Tenure    Balance  NumOfProducts  HasCrCard  IsActiveMember  \\\n",
       "0     2.0       0.00              1          1               1   \n",
       "1     1.0   83807.86              1          0               1   \n",
       "2     8.0  159660.80              3          1               0   \n",
       "3     1.0       0.00              2          0               0   \n",
       "4     2.0  125510.82              1          1               1   \n",
       "\n",
       "   EstimatedSalary  Exited  \n",
       "0        101348.88       1  \n",
       "1        112542.58       0  \n",
       "2        113931.57       1  \n",
       "3         93826.63       0  \n",
       "4         79084.10       0  "
      ]
     },
     "metadata": {},
     "output_type": "display_data"
    },
    {
     "name": "stdout",
     "output_type": "stream",
     "text": [
      "rows, columns:\n",
      "(10000, 14)\n",
      "\n",
      "Data types:\n",
      "RowNumber            int64\n",
      "CustomerId           int64\n",
      "Surname             object\n",
      "CreditScore          int64\n",
      "Geography           object\n",
      "Gender              object\n",
      "Age                  int64\n",
      "Tenure             float64\n",
      "Balance            float64\n",
      "NumOfProducts        int64\n",
      "HasCrCard            int64\n",
      "IsActiveMember       int64\n",
      "EstimatedSalary    float64\n",
      "Exited               int64\n",
      "dtype: object\n"
     ]
    }
   ],
   "source": [
    "import pandas as pd \n",
    "import matplotlib.pyplot as plt\n",
    "from  sklearn.ensemble import RandomForestClassifier\n",
    "from sklearn.metrics import accuracy_score, confusion_matrix, f1_score, precision_recall_curve, PrecisionRecallDisplay,precision_score, r2_score, recall_score, roc_curve, roc_auc_score  \n",
    "from sklearn.model_selection import train_test_split \n",
    "from sklearn.linear_model import LogisticRegression \n",
    "from sklearn.tree import DecisionTreeClassifier\n",
    "from sklearn.utils import shuffle\n",
    "import seaborn as sns\n",
    "\n",
    "df = pd.read_csv('Churn.csv') \n",
    "display(df.head()) \n",
    "print(f'rows, columns:\\n{df.shape}\\n')\n",
    "print(f'Data types:\\n{df.dtypes}')"
   ]
  },
  {
   "cell_type": "markdown",
   "metadata": {},
   "source": [
    "# 1.2 Data Description\n",
    "Here is a description of all of the columns: \n",
    "\n",
    "Features:   \n",
    "- RowNumber — data string index  \n",
    "- CustomerId — unique customer identifier  \n",
    "- Surname — surname  \n",
    "- CreditScore — credit score  \n",
    "- Geography — country of residence  \n",
    "- sex — sex  \n",
    "- Age — age  \n",
    "- Tenure — period of maturation for a customer’s fixed deposit (years)  \n",
    "- Balance — account balance  \n",
    "- NumOfProducts — number of banking products used by the customer  \n",
    "- HasCrCard — customer has a credit card  \n",
    "- IsActiveMember — customer’s activeness  \n",
    "- EstimatedSalary — estimated salary\n",
    "\n",
    "Target:  \n",
    "- Exited — сustomer has left"
   ]
  },
  {
   "cell_type": "markdown",
   "metadata": {},
   "source": [
    "# 2.0 Preprocessing & EDA\n",
    "Let's begin by cleaning the data. The column names are currently capitalized, and multi-word names are concatenated, which violates the PEP8 Style Guide. We'll standardize these names for better readability. Additionally, the 'RowNumber' and 'surname' columns are redundant for our analysis—'RowNumber' is unnecessary since DataFrames already have indices, and 'surname' provides no meaningful insights. We'll drop these columns to streamline the dataset."
   ]
  },
  {
   "cell_type": "markdown",
   "metadata": {},
   "source": [
    "### 2.1 Preprocessing"
   ]
  },
  {
   "cell_type": "code",
   "execution_count": 2,
   "metadata": {},
   "outputs": [
    {
     "data": {
      "text/html": [
       "<div>\n",
       "<style scoped>\n",
       "    .dataframe tbody tr th:only-of-type {\n",
       "        vertical-align: middle;\n",
       "    }\n",
       "\n",
       "    .dataframe tbody tr th {\n",
       "        vertical-align: top;\n",
       "    }\n",
       "\n",
       "    .dataframe thead th {\n",
       "        text-align: right;\n",
       "    }\n",
       "</style>\n",
       "<table border=\"1\" class=\"dataframe\">\n",
       "  <thead>\n",
       "    <tr style=\"text-align: right;\">\n",
       "      <th></th>\n",
       "      <th>rownumber</th>\n",
       "      <th>customerid</th>\n",
       "      <th>surname</th>\n",
       "      <th>credit_score</th>\n",
       "      <th>geography</th>\n",
       "      <th>gender</th>\n",
       "      <th>age</th>\n",
       "      <th>tenure</th>\n",
       "      <th>balance</th>\n",
       "      <th>num_of_products</th>\n",
       "      <th>has_credit_card</th>\n",
       "      <th>is_active_member</th>\n",
       "      <th>estimated_salary</th>\n",
       "      <th>exited</th>\n",
       "    </tr>\n",
       "  </thead>\n",
       "  <tbody>\n",
       "    <tr>\n",
       "      <th>0</th>\n",
       "      <td>1</td>\n",
       "      <td>15634602</td>\n",
       "      <td>Hargrave</td>\n",
       "      <td>619</td>\n",
       "      <td>France</td>\n",
       "      <td>Female</td>\n",
       "      <td>42</td>\n",
       "      <td>2.0</td>\n",
       "      <td>0.00</td>\n",
       "      <td>1</td>\n",
       "      <td>1</td>\n",
       "      <td>1</td>\n",
       "      <td>101348.88</td>\n",
       "      <td>1</td>\n",
       "    </tr>\n",
       "    <tr>\n",
       "      <th>1</th>\n",
       "      <td>2</td>\n",
       "      <td>15647311</td>\n",
       "      <td>Hill</td>\n",
       "      <td>608</td>\n",
       "      <td>Spain</td>\n",
       "      <td>Female</td>\n",
       "      <td>41</td>\n",
       "      <td>1.0</td>\n",
       "      <td>83807.86</td>\n",
       "      <td>1</td>\n",
       "      <td>0</td>\n",
       "      <td>1</td>\n",
       "      <td>112542.58</td>\n",
       "      <td>0</td>\n",
       "    </tr>\n",
       "    <tr>\n",
       "      <th>2</th>\n",
       "      <td>3</td>\n",
       "      <td>15619304</td>\n",
       "      <td>Onio</td>\n",
       "      <td>502</td>\n",
       "      <td>France</td>\n",
       "      <td>Female</td>\n",
       "      <td>42</td>\n",
       "      <td>8.0</td>\n",
       "      <td>159660.80</td>\n",
       "      <td>3</td>\n",
       "      <td>1</td>\n",
       "      <td>0</td>\n",
       "      <td>113931.57</td>\n",
       "      <td>1</td>\n",
       "    </tr>\n",
       "    <tr>\n",
       "      <th>3</th>\n",
       "      <td>4</td>\n",
       "      <td>15701354</td>\n",
       "      <td>Boni</td>\n",
       "      <td>699</td>\n",
       "      <td>France</td>\n",
       "      <td>Female</td>\n",
       "      <td>39</td>\n",
       "      <td>1.0</td>\n",
       "      <td>0.00</td>\n",
       "      <td>2</td>\n",
       "      <td>0</td>\n",
       "      <td>0</td>\n",
       "      <td>93826.63</td>\n",
       "      <td>0</td>\n",
       "    </tr>\n",
       "    <tr>\n",
       "      <th>4</th>\n",
       "      <td>5</td>\n",
       "      <td>15737888</td>\n",
       "      <td>Mitchell</td>\n",
       "      <td>850</td>\n",
       "      <td>Spain</td>\n",
       "      <td>Female</td>\n",
       "      <td>43</td>\n",
       "      <td>2.0</td>\n",
       "      <td>125510.82</td>\n",
       "      <td>1</td>\n",
       "      <td>1</td>\n",
       "      <td>1</td>\n",
       "      <td>79084.10</td>\n",
       "      <td>0</td>\n",
       "    </tr>\n",
       "  </tbody>\n",
       "</table>\n",
       "</div>"
      ],
      "text/plain": [
       "   rownumber  customerid   surname  credit_score geography  gender  age  \\\n",
       "0          1    15634602  Hargrave           619    France  Female   42   \n",
       "1          2    15647311      Hill           608     Spain  Female   41   \n",
       "2          3    15619304      Onio           502    France  Female   42   \n",
       "3          4    15701354      Boni           699    France  Female   39   \n",
       "4          5    15737888  Mitchell           850     Spain  Female   43   \n",
       "\n",
       "   tenure    balance  num_of_products  has_credit_card  is_active_member  \\\n",
       "0     2.0       0.00                1                1                 1   \n",
       "1     1.0   83807.86                1                0                 1   \n",
       "2     8.0  159660.80                3                1                 0   \n",
       "3     1.0       0.00                2                0                 0   \n",
       "4     2.0  125510.82                1                1                 1   \n",
       "\n",
       "   estimated_salary  exited  \n",
       "0         101348.88       1  \n",
       "1         112542.58       0  \n",
       "2         113931.57       1  \n",
       "3          93826.63       0  \n",
       "4          79084.10       0  "
      ]
     },
     "metadata": {},
     "output_type": "display_data"
    }
   ],
   "source": [
    "df.columns = df.columns.str.lower()\n",
    "df = df.rename(columns={'creditscore': 'credit_score', \n",
    "                        'numofproducts': 'num_of_products', \n",
    "                        'hascrcard': 'has_credit_card', \n",
    "                        'isactivemember': 'is_active_member', \n",
    "                        'estimatedsalary': 'estimated_salary'}) \n",
    "df = df.reset_index(drop=True)\n",
    "display(df.head())"
   ]
  },
  {
   "cell_type": "code",
   "execution_count": 3,
   "metadata": {},
   "outputs": [],
   "source": [
    "df = df.drop(['customerid', 'rownumber', 'surname'], axis= 1)"
   ]
  },
  {
   "cell_type": "markdown",
   "metadata": {},
   "source": [
    "Let's check for NaNs and duplicates."
   ]
  },
  {
   "cell_type": "code",
   "execution_count": 4,
   "metadata": {},
   "outputs": [
    {
     "name": "stdout",
     "output_type": "stream",
     "text": [
      "NaNs:\n",
      "credit_score          0\n",
      "geography             0\n",
      "gender                0\n",
      "age                   0\n",
      "tenure              909\n",
      "balance               0\n",
      "num_of_products       0\n",
      "has_credit_card       0\n",
      "is_active_member      0\n",
      "estimated_salary      0\n",
      "exited                0\n",
      "dtype: int64\n",
      "\n",
      "NaNs percentage:\n",
      "credit_score        0.00\n",
      "geography           0.00\n",
      "gender              0.00\n",
      "age                 0.00\n",
      "tenure              9.09\n",
      "balance             0.00\n",
      "num_of_products     0.00\n",
      "has_credit_card     0.00\n",
      "is_active_member    0.00\n",
      "estimated_salary    0.00\n",
      "exited              0.00\n",
      "dtype: float64\n",
      "\n"
     ]
    }
   ],
   "source": [
    "print(f'NaNs:\\n{df.isna().sum()}\\n')\n",
    "print(f'NaNs percentage:\\n{df.isna().sum()/df.shape[0]*100}\\n')"
   ]
  },
  {
   "cell_type": "markdown",
   "metadata": {},
   "source": [
    "There are 909 NaNs in df['tenure'], which is 9.09% of the column's data. Perhaps let's use interpolation to fix this."
   ]
  },
  {
   "cell_type": "code",
   "execution_count": 5,
   "metadata": {},
   "outputs": [
    {
     "name": "stdout",
     "output_type": "stream",
     "text": [
      "NaNs:\n",
      "credit_score        0\n",
      "geography           0\n",
      "gender              0\n",
      "age                 0\n",
      "tenure              0\n",
      "balance             0\n",
      "num_of_products     0\n",
      "has_credit_card     0\n",
      "is_active_member    0\n",
      "estimated_salary    0\n",
      "exited              0\n",
      "dtype: int64\n",
      "\n"
     ]
    }
   ],
   "source": [
    "df.tenure = df.tenure.interpolate(method='linear', limit_direction='both')\n",
    "print(f'NaNs:\\n{df.isna().sum()}\\n')"
   ]
  },
  {
   "cell_type": "code",
   "execution_count": 6,
   "metadata": {},
   "outputs": [
    {
     "data": {
      "text/plain": [
       "credit_score          int64\n",
       "geography            object\n",
       "gender               object\n",
       "age                   int64\n",
       "tenure              float64\n",
       "balance             float64\n",
       "num_of_products       int64\n",
       "has_credit_card       int64\n",
       "is_active_member      int64\n",
       "estimated_salary    float64\n",
       "exited                int64\n",
       "dtype: object"
      ]
     },
     "execution_count": 6,
     "metadata": {},
     "output_type": "execute_result"
    }
   ],
   "source": [
    "df.dtypes"
   ]
  },
  {
   "cell_type": "code",
   "execution_count": 7,
   "metadata": {},
   "outputs": [],
   "source": [
    "df.tenure = df.tenure.astype('int64')"
   ]
  },
  {
   "cell_type": "markdown",
   "metadata": {},
   "source": [
    "Now that we've fixed that, let's check for duplicates."
   ]
  },
  {
   "cell_type": "code",
   "execution_count": 8,
   "metadata": {},
   "outputs": [
    {
     "data": {
      "text/plain": [
       "np.int64(0)"
      ]
     },
     "execution_count": 8,
     "metadata": {},
     "output_type": "execute_result"
    }
   ],
   "source": [
    "df.duplicated().sum()"
   ]
  },
  {
   "cell_type": "code",
   "execution_count": 9,
   "metadata": {},
   "outputs": [
    {
     "data": {
      "text/html": [
       "<div>\n",
       "<style scoped>\n",
       "    .dataframe tbody tr th:only-of-type {\n",
       "        vertical-align: middle;\n",
       "    }\n",
       "\n",
       "    .dataframe tbody tr th {\n",
       "        vertical-align: top;\n",
       "    }\n",
       "\n",
       "    .dataframe thead th {\n",
       "        text-align: right;\n",
       "    }\n",
       "</style>\n",
       "<table border=\"1\" class=\"dataframe\">\n",
       "  <thead>\n",
       "    <tr style=\"text-align: right;\">\n",
       "      <th></th>\n",
       "      <th>credit_score</th>\n",
       "      <th>age</th>\n",
       "      <th>tenure</th>\n",
       "      <th>balance</th>\n",
       "      <th>num_of_products</th>\n",
       "      <th>has_credit_card</th>\n",
       "      <th>is_active_member</th>\n",
       "      <th>estimated_salary</th>\n",
       "      <th>exited</th>\n",
       "      <th>germany</th>\n",
       "      <th>spain</th>\n",
       "      <th>sex</th>\n",
       "    </tr>\n",
       "  </thead>\n",
       "  <tbody>\n",
       "    <tr>\n",
       "      <th>0</th>\n",
       "      <td>619</td>\n",
       "      <td>42</td>\n",
       "      <td>2</td>\n",
       "      <td>0.00</td>\n",
       "      <td>1</td>\n",
       "      <td>1</td>\n",
       "      <td>1</td>\n",
       "      <td>101348.88</td>\n",
       "      <td>1</td>\n",
       "      <td>False</td>\n",
       "      <td>False</td>\n",
       "      <td>False</td>\n",
       "    </tr>\n",
       "    <tr>\n",
       "      <th>1</th>\n",
       "      <td>608</td>\n",
       "      <td>41</td>\n",
       "      <td>1</td>\n",
       "      <td>83807.86</td>\n",
       "      <td>1</td>\n",
       "      <td>0</td>\n",
       "      <td>1</td>\n",
       "      <td>112542.58</td>\n",
       "      <td>0</td>\n",
       "      <td>False</td>\n",
       "      <td>True</td>\n",
       "      <td>False</td>\n",
       "    </tr>\n",
       "    <tr>\n",
       "      <th>2</th>\n",
       "      <td>502</td>\n",
       "      <td>42</td>\n",
       "      <td>8</td>\n",
       "      <td>159660.80</td>\n",
       "      <td>3</td>\n",
       "      <td>1</td>\n",
       "      <td>0</td>\n",
       "      <td>113931.57</td>\n",
       "      <td>1</td>\n",
       "      <td>False</td>\n",
       "      <td>False</td>\n",
       "      <td>False</td>\n",
       "    </tr>\n",
       "    <tr>\n",
       "      <th>3</th>\n",
       "      <td>699</td>\n",
       "      <td>39</td>\n",
       "      <td>1</td>\n",
       "      <td>0.00</td>\n",
       "      <td>2</td>\n",
       "      <td>0</td>\n",
       "      <td>0</td>\n",
       "      <td>93826.63</td>\n",
       "      <td>0</td>\n",
       "      <td>False</td>\n",
       "      <td>False</td>\n",
       "      <td>False</td>\n",
       "    </tr>\n",
       "    <tr>\n",
       "      <th>4</th>\n",
       "      <td>850</td>\n",
       "      <td>43</td>\n",
       "      <td>2</td>\n",
       "      <td>125510.82</td>\n",
       "      <td>1</td>\n",
       "      <td>1</td>\n",
       "      <td>1</td>\n",
       "      <td>79084.10</td>\n",
       "      <td>0</td>\n",
       "      <td>False</td>\n",
       "      <td>True</td>\n",
       "      <td>False</td>\n",
       "    </tr>\n",
       "  </tbody>\n",
       "</table>\n",
       "</div>"
      ],
      "text/plain": [
       "   credit_score  age  tenure    balance  num_of_products  has_credit_card  \\\n",
       "0           619   42       2       0.00                1                1   \n",
       "1           608   41       1   83807.86                1                0   \n",
       "2           502   42       8  159660.80                3                1   \n",
       "3           699   39       1       0.00                2                0   \n",
       "4           850   43       2  125510.82                1                1   \n",
       "\n",
       "   is_active_member  estimated_salary  exited  germany  spain    sex  \n",
       "0                 1         101348.88       1    False  False  False  \n",
       "1                 1         112542.58       0    False   True  False  \n",
       "2                 0         113931.57       1    False  False  False  \n",
       "3                 0          93826.63       0    False  False  False  \n",
       "4                 1          79084.10       0    False   True  False  "
      ]
     },
     "execution_count": 9,
     "metadata": {},
     "output_type": "execute_result"
    }
   ],
   "source": [
    "df = pd.get_dummies(df, drop_first=True)\n",
    "df = df.rename(columns={'geography_Germany': 'germany', \n",
    "                        'geography_Spain': 'spain', \n",
    "                        'gender_Male': 'sex'})\n",
    "df.head()"
   ]
  },
  {
   "cell_type": "markdown",
   "metadata": {},
   "source": [
    "No duplicates, beautiful. We can now move on to the next step: EDA!"
   ]
  },
  {
   "cell_type": "markdown",
   "metadata": {},
   "source": [
    "### 2.2 EDA Start\n"
   ]
  },
  {
   "cell_type": "markdown",
   "metadata": {},
   "source": [
    "Since this project is centered on customers leaving, let's see how many have left. First let's look at our data again and then summate how many customers have left (df.exited == 1) and divide it by the total number of customers (df.shape), then multiply by 100 to obtain the percentage."
   ]
  },
  {
   "cell_type": "code",
   "execution_count": 10,
   "metadata": {},
   "outputs": [
    {
     "data": {
      "text/html": [
       "<div>\n",
       "<style scoped>\n",
       "    .dataframe tbody tr th:only-of-type {\n",
       "        vertical-align: middle;\n",
       "    }\n",
       "\n",
       "    .dataframe tbody tr th {\n",
       "        vertical-align: top;\n",
       "    }\n",
       "\n",
       "    .dataframe thead th {\n",
       "        text-align: right;\n",
       "    }\n",
       "</style>\n",
       "<table border=\"1\" class=\"dataframe\">\n",
       "  <thead>\n",
       "    <tr style=\"text-align: right;\">\n",
       "      <th></th>\n",
       "      <th>credit_score</th>\n",
       "      <th>age</th>\n",
       "      <th>tenure</th>\n",
       "      <th>balance</th>\n",
       "      <th>num_of_products</th>\n",
       "      <th>has_credit_card</th>\n",
       "      <th>is_active_member</th>\n",
       "      <th>estimated_salary</th>\n",
       "      <th>exited</th>\n",
       "      <th>germany</th>\n",
       "      <th>spain</th>\n",
       "      <th>sex</th>\n",
       "    </tr>\n",
       "  </thead>\n",
       "  <tbody>\n",
       "    <tr>\n",
       "      <th>0</th>\n",
       "      <td>619</td>\n",
       "      <td>42</td>\n",
       "      <td>2</td>\n",
       "      <td>0.00</td>\n",
       "      <td>1</td>\n",
       "      <td>1</td>\n",
       "      <td>1</td>\n",
       "      <td>101348.88</td>\n",
       "      <td>1</td>\n",
       "      <td>False</td>\n",
       "      <td>False</td>\n",
       "      <td>False</td>\n",
       "    </tr>\n",
       "    <tr>\n",
       "      <th>1</th>\n",
       "      <td>608</td>\n",
       "      <td>41</td>\n",
       "      <td>1</td>\n",
       "      <td>83807.86</td>\n",
       "      <td>1</td>\n",
       "      <td>0</td>\n",
       "      <td>1</td>\n",
       "      <td>112542.58</td>\n",
       "      <td>0</td>\n",
       "      <td>False</td>\n",
       "      <td>True</td>\n",
       "      <td>False</td>\n",
       "    </tr>\n",
       "    <tr>\n",
       "      <th>2</th>\n",
       "      <td>502</td>\n",
       "      <td>42</td>\n",
       "      <td>8</td>\n",
       "      <td>159660.80</td>\n",
       "      <td>3</td>\n",
       "      <td>1</td>\n",
       "      <td>0</td>\n",
       "      <td>113931.57</td>\n",
       "      <td>1</td>\n",
       "      <td>False</td>\n",
       "      <td>False</td>\n",
       "      <td>False</td>\n",
       "    </tr>\n",
       "    <tr>\n",
       "      <th>3</th>\n",
       "      <td>699</td>\n",
       "      <td>39</td>\n",
       "      <td>1</td>\n",
       "      <td>0.00</td>\n",
       "      <td>2</td>\n",
       "      <td>0</td>\n",
       "      <td>0</td>\n",
       "      <td>93826.63</td>\n",
       "      <td>0</td>\n",
       "      <td>False</td>\n",
       "      <td>False</td>\n",
       "      <td>False</td>\n",
       "    </tr>\n",
       "    <tr>\n",
       "      <th>4</th>\n",
       "      <td>850</td>\n",
       "      <td>43</td>\n",
       "      <td>2</td>\n",
       "      <td>125510.82</td>\n",
       "      <td>1</td>\n",
       "      <td>1</td>\n",
       "      <td>1</td>\n",
       "      <td>79084.10</td>\n",
       "      <td>0</td>\n",
       "      <td>False</td>\n",
       "      <td>True</td>\n",
       "      <td>False</td>\n",
       "    </tr>\n",
       "  </tbody>\n",
       "</table>\n",
       "</div>"
      ],
      "text/plain": [
       "   credit_score  age  tenure    balance  num_of_products  has_credit_card  \\\n",
       "0           619   42       2       0.00                1                1   \n",
       "1           608   41       1   83807.86                1                0   \n",
       "2           502   42       8  159660.80                3                1   \n",
       "3           699   39       1       0.00                2                0   \n",
       "4           850   43       2  125510.82                1                1   \n",
       "\n",
       "   is_active_member  estimated_salary  exited  germany  spain    sex  \n",
       "0                 1         101348.88       1    False  False  False  \n",
       "1                 1         112542.58       0    False   True  False  \n",
       "2                 0         113931.57       1    False  False  False  \n",
       "3                 0          93826.63       0    False  False  False  \n",
       "4                 1          79084.10       0    False   True  False  "
      ]
     },
     "execution_count": 10,
     "metadata": {},
     "output_type": "execute_result"
    }
   ],
   "source": [
    "df.head()"
   ]
  },
  {
   "cell_type": "code",
   "execution_count": 11,
   "metadata": {},
   "outputs": [
    {
     "name": "stdout",
     "output_type": "stream",
     "text": [
      "Customers:\n"
     ]
    },
    {
     "data": {
      "text/html": [
       "<div>\n",
       "<style scoped>\n",
       "    .dataframe tbody tr th:only-of-type {\n",
       "        vertical-align: middle;\n",
       "    }\n",
       "\n",
       "    .dataframe tbody tr th {\n",
       "        vertical-align: top;\n",
       "    }\n",
       "\n",
       "    .dataframe thead th {\n",
       "        text-align: right;\n",
       "    }\n",
       "</style>\n",
       "<table border=\"1\" class=\"dataframe\">\n",
       "  <thead>\n",
       "    <tr style=\"text-align: right;\">\n",
       "      <th></th>\n",
       "      <th>credit_score</th>\n",
       "      <th>age</th>\n",
       "      <th>tenure</th>\n",
       "      <th>balance</th>\n",
       "      <th>num_of_products</th>\n",
       "      <th>has_credit_card</th>\n",
       "      <th>is_active_member</th>\n",
       "      <th>estimated_salary</th>\n",
       "      <th>exited</th>\n",
       "      <th>germany</th>\n",
       "      <th>spain</th>\n",
       "      <th>sex</th>\n",
       "    </tr>\n",
       "  </thead>\n",
       "  <tbody>\n",
       "    <tr>\n",
       "      <th>1</th>\n",
       "      <td>608</td>\n",
       "      <td>41</td>\n",
       "      <td>1</td>\n",
       "      <td>83807.86</td>\n",
       "      <td>1</td>\n",
       "      <td>0</td>\n",
       "      <td>1</td>\n",
       "      <td>112542.58</td>\n",
       "      <td>0</td>\n",
       "      <td>False</td>\n",
       "      <td>True</td>\n",
       "      <td>False</td>\n",
       "    </tr>\n",
       "    <tr>\n",
       "      <th>3</th>\n",
       "      <td>699</td>\n",
       "      <td>39</td>\n",
       "      <td>1</td>\n",
       "      <td>0.00</td>\n",
       "      <td>2</td>\n",
       "      <td>0</td>\n",
       "      <td>0</td>\n",
       "      <td>93826.63</td>\n",
       "      <td>0</td>\n",
       "      <td>False</td>\n",
       "      <td>False</td>\n",
       "      <td>False</td>\n",
       "    </tr>\n",
       "    <tr>\n",
       "      <th>4</th>\n",
       "      <td>850</td>\n",
       "      <td>43</td>\n",
       "      <td>2</td>\n",
       "      <td>125510.82</td>\n",
       "      <td>1</td>\n",
       "      <td>1</td>\n",
       "      <td>1</td>\n",
       "      <td>79084.10</td>\n",
       "      <td>0</td>\n",
       "      <td>False</td>\n",
       "      <td>True</td>\n",
       "      <td>False</td>\n",
       "    </tr>\n",
       "    <tr>\n",
       "      <th>6</th>\n",
       "      <td>822</td>\n",
       "      <td>50</td>\n",
       "      <td>7</td>\n",
       "      <td>0.00</td>\n",
       "      <td>2</td>\n",
       "      <td>1</td>\n",
       "      <td>1</td>\n",
       "      <td>10062.80</td>\n",
       "      <td>0</td>\n",
       "      <td>False</td>\n",
       "      <td>False</td>\n",
       "      <td>True</td>\n",
       "    </tr>\n",
       "    <tr>\n",
       "      <th>8</th>\n",
       "      <td>501</td>\n",
       "      <td>44</td>\n",
       "      <td>4</td>\n",
       "      <td>142051.07</td>\n",
       "      <td>2</td>\n",
       "      <td>0</td>\n",
       "      <td>1</td>\n",
       "      <td>74940.50</td>\n",
       "      <td>0</td>\n",
       "      <td>False</td>\n",
       "      <td>False</td>\n",
       "      <td>True</td>\n",
       "    </tr>\n",
       "  </tbody>\n",
       "</table>\n",
       "</div>"
      ],
      "text/plain": [
       "   credit_score  age  tenure    balance  num_of_products  has_credit_card  \\\n",
       "1           608   41       1   83807.86                1                0   \n",
       "3           699   39       1       0.00                2                0   \n",
       "4           850   43       2  125510.82                1                1   \n",
       "6           822   50       7       0.00                2                1   \n",
       "8           501   44       4  142051.07                2                0   \n",
       "\n",
       "   is_active_member  estimated_salary  exited  germany  spain    sex  \n",
       "1                 1         112542.58       0    False   True  False  \n",
       "3                 0          93826.63       0    False  False  False  \n",
       "4                 1          79084.10       0    False   True  False  \n",
       "6                 1          10062.80       0    False  False   True  \n",
       "8                 1          74940.50       0    False  False   True  "
      ]
     },
     "metadata": {},
     "output_type": "display_data"
    },
    {
     "name": "stdout",
     "output_type": "stream",
     "text": [
      "Former Customers:\n"
     ]
    },
    {
     "data": {
      "text/html": [
       "<div>\n",
       "<style scoped>\n",
       "    .dataframe tbody tr th:only-of-type {\n",
       "        vertical-align: middle;\n",
       "    }\n",
       "\n",
       "    .dataframe tbody tr th {\n",
       "        vertical-align: top;\n",
       "    }\n",
       "\n",
       "    .dataframe thead th {\n",
       "        text-align: right;\n",
       "    }\n",
       "</style>\n",
       "<table border=\"1\" class=\"dataframe\">\n",
       "  <thead>\n",
       "    <tr style=\"text-align: right;\">\n",
       "      <th></th>\n",
       "      <th>credit_score</th>\n",
       "      <th>age</th>\n",
       "      <th>tenure</th>\n",
       "      <th>balance</th>\n",
       "      <th>num_of_products</th>\n",
       "      <th>has_credit_card</th>\n",
       "      <th>is_active_member</th>\n",
       "      <th>estimated_salary</th>\n",
       "      <th>exited</th>\n",
       "      <th>germany</th>\n",
       "      <th>spain</th>\n",
       "      <th>sex</th>\n",
       "    </tr>\n",
       "  </thead>\n",
       "  <tbody>\n",
       "    <tr>\n",
       "      <th>0</th>\n",
       "      <td>619</td>\n",
       "      <td>42</td>\n",
       "      <td>2</td>\n",
       "      <td>0.00</td>\n",
       "      <td>1</td>\n",
       "      <td>1</td>\n",
       "      <td>1</td>\n",
       "      <td>101348.88</td>\n",
       "      <td>1</td>\n",
       "      <td>False</td>\n",
       "      <td>False</td>\n",
       "      <td>False</td>\n",
       "    </tr>\n",
       "    <tr>\n",
       "      <th>2</th>\n",
       "      <td>502</td>\n",
       "      <td>42</td>\n",
       "      <td>8</td>\n",
       "      <td>159660.80</td>\n",
       "      <td>3</td>\n",
       "      <td>1</td>\n",
       "      <td>0</td>\n",
       "      <td>113931.57</td>\n",
       "      <td>1</td>\n",
       "      <td>False</td>\n",
       "      <td>False</td>\n",
       "      <td>False</td>\n",
       "    </tr>\n",
       "    <tr>\n",
       "      <th>5</th>\n",
       "      <td>645</td>\n",
       "      <td>44</td>\n",
       "      <td>8</td>\n",
       "      <td>113755.78</td>\n",
       "      <td>2</td>\n",
       "      <td>1</td>\n",
       "      <td>0</td>\n",
       "      <td>149756.71</td>\n",
       "      <td>1</td>\n",
       "      <td>False</td>\n",
       "      <td>True</td>\n",
       "      <td>True</td>\n",
       "    </tr>\n",
       "    <tr>\n",
       "      <th>7</th>\n",
       "      <td>376</td>\n",
       "      <td>29</td>\n",
       "      <td>4</td>\n",
       "      <td>115046.74</td>\n",
       "      <td>4</td>\n",
       "      <td>1</td>\n",
       "      <td>0</td>\n",
       "      <td>119346.88</td>\n",
       "      <td>1</td>\n",
       "      <td>True</td>\n",
       "      <td>False</td>\n",
       "      <td>False</td>\n",
       "    </tr>\n",
       "    <tr>\n",
       "      <th>16</th>\n",
       "      <td>653</td>\n",
       "      <td>58</td>\n",
       "      <td>1</td>\n",
       "      <td>132602.88</td>\n",
       "      <td>1</td>\n",
       "      <td>1</td>\n",
       "      <td>0</td>\n",
       "      <td>5097.67</td>\n",
       "      <td>1</td>\n",
       "      <td>True</td>\n",
       "      <td>False</td>\n",
       "      <td>True</td>\n",
       "    </tr>\n",
       "  </tbody>\n",
       "</table>\n",
       "</div>"
      ],
      "text/plain": [
       "    credit_score  age  tenure    balance  num_of_products  has_credit_card  \\\n",
       "0            619   42       2       0.00                1                1   \n",
       "2            502   42       8  159660.80                3                1   \n",
       "5            645   44       8  113755.78                2                1   \n",
       "7            376   29       4  115046.74                4                1   \n",
       "16           653   58       1  132602.88                1                1   \n",
       "\n",
       "    is_active_member  estimated_salary  exited  germany  spain    sex  \n",
       "0                  1         101348.88       1    False  False  False  \n",
       "2                  0         113931.57       1    False  False  False  \n",
       "5                  0         149756.71       1    False   True   True  \n",
       "7                  0         119346.88       1     True  False  False  \n",
       "16                 0           5097.67       1     True  False   True  "
      ]
     },
     "metadata": {},
     "output_type": "display_data"
    }
   ],
   "source": [
    "customer = df[df.exited == 0] \n",
    "former_customer = df[df.exited == 1]\n",
    "\n",
    "print('Customers:')\n",
    "display(customer.head())\n",
    "print('Former Customers:')\n",
    "display(former_customer.head())"
   ]
  },
  {
   "cell_type": "code",
   "execution_count": 12,
   "metadata": {},
   "outputs": [
    {
     "name": "stdout",
     "output_type": "stream",
     "text": [
      "Exited customers percentage: 20.369999999999997%\n"
     ]
    }
   ],
   "source": [
    "exited_customers = (df.exited == 1).sum()/df.shape[0]*100\n",
    "print(f'Exited customers percentage: {exited_customers}%')"
   ]
  },
  {
   "cell_type": "code",
   "execution_count": 13,
   "metadata": {},
   "outputs": [
    {
     "data": {
      "text/plain": [
       "Text(0, 0.5, 'Count')"
      ]
     },
     "execution_count": 13,
     "metadata": {},
     "output_type": "execute_result"
    },
    {
     "data": {
      "image/png": "[encoded data removed]",
      "text/plain": [
       "<Figure size 640x480 with 1 Axes>"
      ]
     },
     "metadata": {},
     "output_type": "display_data"
    }
   ],
   "source": [
    "# Create the counts DataFrame\n",
    "counts = df['exited'].value_counts().reset_index()\n",
    "counts.columns = ['exited', 'count']\n",
    "counts['exited'] = counts['exited'].replace({0: 'No', 1: 'Yes'})\n",
    "\n",
    "# Plot the counts\n",
    "sns.barplot(x= 'exited', \n",
    "            y= 'count', \n",
    "            data= counts, \n",
    "            palette= {'No': 'blue', 'Yes': 'red'}, \n",
    "            hue= 'exited')\n",
    "\n",
    "plt.title('Number of Exited Customers') \n",
    "plt.xlabel('Exited')\n",
    "plt.ylabel('Count')"
   ]
  },
  {
   "cell_type": "markdown",
   "metadata": {},
   "source": [
    "20.37% of customers have left."
   ]
  },
  {
   "cell_type": "markdown",
   "metadata": {},
   "source": [
    "### 2.3 Credit Score \n",
    "Let's get a description of the population's 'credit_score', check if there's a correlation between 'credit_score' and 'exited', and then for visuals, create a histogram."
   ]
  },
  {
   "cell_type": "code",
   "execution_count": 14,
   "metadata": {},
   "outputs": [
    {
     "name": "stdout",
     "output_type": "stream",
     "text": [
      "Description of Customers' Credit Score:\n",
      "count    7963.000000\n",
      "mean      651.853196\n",
      "std        95.653837\n",
      "min       405.000000\n",
      "25%       585.000000\n",
      "50%       653.000000\n",
      "75%       718.000000\n",
      "max       850.000000\n",
      "Name: credit_score, dtype: float64 \n",
      "\n",
      "Description of Former Customers' Credit Score:\n",
      "count    2037.000000\n",
      "mean      645.351497\n",
      "std       100.321503\n",
      "min       350.000000\n",
      "25%       578.000000\n",
      "50%       646.000000\n",
      "75%       716.000000\n",
      "max       850.000000\n",
      "Name: credit_score, dtype: float64\n"
     ]
    }
   ],
   "source": [
    "customer_credit_score_describe = customer.credit_score.describe()\n",
    "former_customer_credit_score_describe = former_customer.credit_score.describe()\n",
    "\n",
    "print(\"Description of Customers' Credit Score:\")\n",
    "print(customer_credit_score_describe, \"\\n\")\n",
    "print(\"Description of Former Customers' Credit Score:\")\n",
    "print(former_customer_credit_score_describe)"
   ]
  },
  {
   "cell_type": "code",
   "execution_count": 15,
   "metadata": {},
   "outputs": [
    {
     "data": {
      "text/plain": [
       "np.float64(-0.02709353975465779)"
      ]
     },
     "execution_count": 15,
     "metadata": {},
     "output_type": "execute_result"
    }
   ],
   "source": [
    "df.exited.corr(df.credit_score)"
   ]
  },
  {
   "cell_type": "code",
   "execution_count": 16,
   "metadata": {},
   "outputs": [
    {
     "data": {
      "text/plain": [
       "<Axes: xlabel='credit_score', ylabel='Count'>"
      ]
     },
     "execution_count": 16,
     "metadata": {},
     "output_type": "execute_result"
    },
    {
     "data": {
      "image/png": "[encoded data removed]",
      "text/plain": [
       "<Figure size 640x480 with 1 Axes>"
      ]
     },
     "metadata": {},
     "output_type": "display_data"
    }
   ],
   "source": [
    "sns.histplot(data=df, \n",
    "             x= 'credit_score', \n",
    "             palette= {0: 'blue', 1: 'red'},\n",
    "             hue= 'exited', \n",
    "             kde= True, \n",
    "             alpha= 0.4)"
   ]
  },
  {
   "cell_type": "markdown",
   "metadata": {},
   "source": [
    "The description and graph do not seem to suggest a correlation between credit score and whether or not a customer stays."
   ]
  },
  {
   "cell_type": "markdown",
   "metadata": {},
   "source": [
    "### 2.4 Country\n",
    "In this section, we analyze the distribution of customers across different countries and their exit statuses. First, we calculate the total population proportions for each country in the dataset. Then, we repeat this analysis for the `customer` and `former_customer` datasets to observe how the distribution changes between current and former customers. This helps us identify any country-specific trends or patterns that may influence customer retention."
   ]
  },
  {
   "cell_type": "code",
   "execution_count": 17,
   "metadata": {},
   "outputs": [],
   "source": [
    "countries = df.groupby(['germany', 'spain', 'exited']).size().reset_index(name='count')\n",
    "\n",
    "countries['country'] = countries.apply(\n",
    "    lambda row: 'Germany' if row['germany'] else ('Spain' if row['spain'] else 'France'), axis=1\n",
    ")"
   ]
  },
  {
   "cell_type": "code",
   "execution_count": 18,
   "metadata": {},
   "outputs": [
    {
     "name": "stdout",
     "output_type": "stream",
     "text": [
      "Individuals by country: country\n",
      "France     5014\n",
      "Germany    2509\n",
      "Spain      2477\n",
      "Name: count, dtype: int64 \n",
      "\n",
      "Individuals by country (%): country\n",
      "France     50.14\n",
      "Germany    25.09\n",
      "Spain      24.77\n",
      "Name: count, dtype: float64\n"
     ]
    }
   ],
   "source": [
    "country_counts = countries.groupby('country')['count'].sum()\n",
    "print(f'Individuals by country: {country_counts}','\\n')\n",
    "\n",
    "proportions = country_counts / df.shape[0] * 100\n",
    "print(f'Individuals by country (%): {proportions}')"
   ]
  },
  {
   "cell_type": "code",
   "execution_count": 19,
   "metadata": {},
   "outputs": [
    {
     "name": "stdout",
     "output_type": "stream",
     "text": [
      "Customers by country: country\n",
      "France     4204\n",
      "Germany    1695\n",
      "Spain      2064\n",
      "Name: count, dtype: int64\n",
      "Customers by country (%): country\n",
      "France     42.04\n",
      "Germany    16.95\n",
      "Spain      20.64\n",
      "Name: count, dtype: float64\n"
     ]
    }
   ],
   "source": [
    "customer_countries = customer.groupby(['germany', 'spain', 'exited']).size().reset_index(name= 'count')\n",
    "\n",
    "customer_countries['country'] = customer_countries.apply(\n",
    "    lambda row: 'Germany' if row['germany'] else ('Spain' if row['spain'] else 'France'), axis=1\n",
    ")\n",
    "\n",
    "customer_countries = customer_countries.groupby('country')['count'].sum() \n",
    "print(f'Customers by country: {customer_countries}') \n",
    "\n",
    "customer_countries_proportions = customer_countries / df.shape[0] * 100 \n",
    "print(f'Customers by country (%): {customer_countries_proportions}')"
   ]
  },
  {
   "cell_type": "code",
   "execution_count": 20,
   "metadata": {},
   "outputs": [
    {
     "name": "stdout",
     "output_type": "stream",
     "text": [
      "Individuals by country: country\n",
      "France     810\n",
      "Germany    814\n",
      "Spain      413\n",
      "Name: count, dtype: int64 \n",
      "\n",
      "Individuals by country (%): country\n",
      "France     8.10\n",
      "Germany    8.14\n",
      "Spain      4.13\n",
      "Name: count, dtype: float64\n"
     ]
    }
   ],
   "source": [
    "former_customer_country = former_customer.groupby(['germany', 'spain', 'exited']).size().reset_index(name='count')\n",
    "former_customer_country['country'] = former_customer_country.apply(\n",
    "    lambda row: 'Germany' if row['germany'] else ('Spain' if row['spain'] else 'France'), axis=1\n",
    ")\n",
    "\n",
    "former_customer_country = former_customer_country.groupby('country')['count'].sum()\n",
    "print(f'Individuals by country: {former_customer_country}','\\n')\n",
    "\n",
    "former_customer_proportions = former_customer_country / df.shape[0] * 100\n",
    "print(f'Individuals by country (%): {former_customer_proportions}')"
   ]
  },
  {
   "cell_type": "code",
   "execution_count": 21,
   "metadata": {},
   "outputs": [
    {
     "data": {
      "image/png": "[encoded data removed]",
      "text/plain": [
       "<Figure size 808.875x500 with 1 Axes>"
      ]
     },
     "metadata": {},
     "output_type": "display_data"
    }
   ],
   "source": [
    "plot = sns.catplot(\n",
    "    data=countries,\n",
    "    x='country',\n",
    "    y='count',\n",
    "    hue='exited',\n",
    "    kind='bar',\n",
    "    palette={0: 'blue', 1: 'red'},\n",
    "    height=5,\n",
    "    aspect=1.5\n",
    ")\n",
    "\n",
    "plt.title('Customer Exit Status by Country')\n",
    "plt.xlabel('Country')\n",
    "plt.ylabel('Count')\n",
    "\n",
    "plt.show()"
   ]
  },
  {
   "cell_type": "markdown",
   "metadata": {},
   "source": [
    "In section 2.2 we established that an overall average of 20.37% of customers left Beta Bank. When we look at the averages by country, that changes. In France and Spain, 16.15% and 16.67% of customers left, but in Germany that figure is 32.44%. That's about twice as much as France and Spain, plus tnat's 1/3 of all German customers. Why is the exit rate so high in Germany?"
   ]
  },
  {
   "cell_type": "markdown",
   "metadata": {},
   "source": [
    "### 2.5 Sex\n",
    "In this section, we will analyze the distribution of customers by sex and their exit statuses. First we'll find the amount of males and females in the population, then repeat that step twice - once for the 'customer' dataset and again for the 'former_customer' dataset. By doing so, we'll find information "
   ]
  },
  {
   "cell_type": "code",
   "execution_count": 22,
   "metadata": {},
   "outputs": [
    {
     "name": "stdout",
     "output_type": "stream",
     "text": [
      "Number of males: 5457 \n",
      "Number of females: 4543\n",
      "Number of males (percentage): 54.56999999999999% \n",
      "Number of females (percentage): 45.43%\n"
     ]
    }
   ],
   "source": [
    "sex_counts = df['sex'].value_counts()\n",
    "\n",
    "print(f'Number of males: {sex_counts[True]}',\n",
    "      '\\n'f'Number of females: {sex_counts[False]}')\n",
    "print(f'Number of males (percentage): {sex_counts[True]/(sex_counts[True] + sex_counts[False]) * 100}%',\n",
    "      '\\n'f'Number of females (percentage): {sex_counts[False]/(sex_counts[True] + sex_counts[False]) * 100}%')"
   ]
  },
  {
   "cell_type": "code",
   "execution_count": 23,
   "metadata": {},
   "outputs": [
    {
     "name": "stdout",
     "output_type": "stream",
     "text": [
      "Customer sex count:\n",
      "sex\n",
      "True     4559\n",
      "False    3404\n",
      "Name: count, dtype: int64 \n",
      "\n",
      "Customer sex count (percentage):\n",
      "sex\n",
      "True     57.252292\n",
      "False    42.747708\n",
      "Name: count, dtype: float64\n"
     ]
    }
   ],
   "source": [
    "customer_sex_count = customer.sex.value_counts()\n",
    "\n",
    "print(f'Customer sex count:\\n{customer_sex_count} \\n')\n",
    "print(f'Customer sex count (percentage):\\n{customer_sex_count/customer.shape[0]*100}')"
   ]
  },
  {
   "cell_type": "code",
   "execution_count": 24,
   "metadata": {},
   "outputs": [
    {
     "name": "stdout",
     "output_type": "stream",
     "text": [
      "Former customer sex count:\n",
      "sex\n",
      "False    1139\n",
      "True      898\n",
      "Name: count, dtype: int64 \n",
      "\n",
      "Former customer sex count (percentage):\n",
      "sex\n",
      "False    55.915562\n",
      "True     44.084438\n",
      "Name: count, dtype: float64 \n",
      "\n"
     ]
    }
   ],
   "source": [
    "former_customer_sex_count = former_customer.sex.value_counts()\n",
    "\n",
    "print(f'Former customer sex count:\\n{former_customer_sex_count} \\n')\n",
    "print(f'Former customer sex count (percentage):\\n{former_customer_sex_count/former_customer.shape[0]*100} \\n')"
   ]
  },
  {
   "cell_type": "markdown",
   "metadata": {},
   "source": [
    "Now let's get the percentages of remaining male and female customers. We'll create a barplot to visualize all of the information we've found and then summarize below."
   ]
  },
  {
   "cell_type": "code",
   "execution_count": 25,
   "metadata": {},
   "outputs": [
    {
     "name": "stdout",
     "output_type": "stream",
     "text": [
      "Percentage of remaining male customers: 83.54407183434121%\n",
      "Percentage of remaining female customers: 74.92846136913933%\n"
     ]
    }
   ],
   "source": [
    "male_not_exited = customer_sex_count[True]\n",
    "total_males = male_not_exited + former_customer_sex_count[True]\n",
    "\n",
    "percentage_male_not_exited = (male_not_exited / total_males) * 100\n",
    "print(f'Percentage of remaining male customers: {percentage_male_not_exited}%')\n",
    "\n",
    "female_not_exited = customer_sex_count[False] \n",
    "total_females = female_not_exited + former_customer_sex_count[False]\n",
    "\n",
    "percentage_female_not_exited = (female_not_exited/ total_females) * 100\n",
    "print(f'Percentage of remaining female customers: {percentage_female_not_exited}%')"
   ]
  },
  {
   "cell_type": "code",
   "execution_count": 26,
   "metadata": {},
   "outputs": [
    {
     "data": {
      "image/png": "[encoded data removed]",
      "text/plain": [
       "<Figure size 640x480 with 1 Axes>"
      ]
     },
     "metadata": {},
     "output_type": "display_data"
    }
   ],
   "source": [
    "sex_exit_counts = df.groupby(['sex', 'exited']).size().reset_index(name='count')\n",
    "\n",
    "sex_exit_counts['sex'] = sex_exit_counts['sex'].replace({True: 'Male', False: 'Female'})\n",
    "\n",
    "sex_exit_counts['exited'] = sex_exit_counts['exited'].replace({1: 'Yes', 0: 'No'})\n",
    "\n",
    "sns.barplot(data=sex_exit_counts, \n",
    "            x='sex', \n",
    "            y='count', \n",
    "            hue='exited', \n",
    "            palette={'No': 'blue', 'Yes': 'red'})\n",
    "\n",
    "plt.title('Customer Exit Status by Sex')\n",
    "plt.xlabel('Sex')\n",
    "plt.ylabel('Count')\n",
    "plt.legend(title='Exited')\n",
    "plt.show()"
   ]
  },
  {
   "cell_type": "markdown",
   "metadata": {},
   "source": [
    "Let's recall these percentages from earlier:\n",
    "\n",
    "All individuals in the dataset by sex:  \n",
    "- Male: 54.57% (5457)  \n",
    "- Female: 45.43% (4543)  \n",
    "- Difference: -9.14 %  \n",
    "\n",
    "Customers by sex:  \n",
    "- Male: 57.25% (4559)  \n",
    "- Female: 42.75% (3404)  \n",
    "- Difference: -14.5%\n",
    "\n",
    "Former Customers by sex:  \n",
    "- Male: 44.08% (898)  \n",
    "- Female: 55.92% (1139)  \n",
    "- Difference: +11.84%  \n",
    "\n",
    "Remaining customer percentage of each category:  \n",
    "- Male: 83.54%  \n",
    "- Female: 74.83%  \n",
    "- Difference: -8.17%\n",
    "\n",
    "Within the overall dataset, there are 9.14% more males than females. The calculations suggest a 14.5% difference between customers' sexes, with male customers being the majority. Conversely for formers customers, females are the majority and have an 11.84% difference. Finally, males showed a tendency to stay - only 16.46% left compared to 25.17% for females. That's an 8.71% difference. "
   ]
  },
  {
   "cell_type": "markdown",
   "metadata": {},
   "source": [
    "### 2.6 Age\n",
    "In this section, we'll examine whether age influences individuals exiting the bank. To do this, let's first get a description of the column and check for a correlation between the two."
   ]
  },
  {
   "cell_type": "code",
   "execution_count": 27,
   "metadata": {},
   "outputs": [
    {
     "name": "stdout",
     "output_type": "stream",
     "text": [
      "Description of Customers' Age:\n",
      "count    7963.000000\n",
      "mean       37.408389\n",
      "std        10.125363\n",
      "min        18.000000\n",
      "25%        31.000000\n",
      "50%        36.000000\n",
      "75%        41.000000\n",
      "max        92.000000\n",
      "Name: age, dtype: float64\n",
      "\n",
      "Description of Former Customers' Age:\n",
      "count    2037.000000\n",
      "mean       44.837997\n",
      "std         9.761562\n",
      "min        18.000000\n",
      "25%        38.000000\n",
      "50%        45.000000\n",
      "75%        51.000000\n",
      "max        84.000000\n",
      "Name: age, dtype: float64\n"
     ]
    }
   ],
   "source": [
    "customer_age_describe = customer.age.describe()\n",
    "former_customer_age_describe = former_customer.age.describe()\n",
    "\n",
    "print(\"Description of Customers' Age:\")\n",
    "print(customer_age_describe)\n",
    "print()\n",
    "print(\"Description of Former Customers' Age:\")\n",
    "print(former_customer_age_describe)"
   ]
  },
  {
   "cell_type": "code",
   "execution_count": 28,
   "metadata": {},
   "outputs": [
    {
     "data": {
      "text/plain": [
       "np.float64(0.2853230378350683)"
      ]
     },
     "execution_count": 28,
     "metadata": {},
     "output_type": "execute_result"
    }
   ],
   "source": [
    "df.exited.corr(df.age)"
   ]
  },
  {
   "cell_type": "code",
   "execution_count": 29,
   "metadata": {},
   "outputs": [
    {
     "data": {
      "text/plain": [
       "Text(0.5, 0, 'Age')"
      ]
     },
     "execution_count": 29,
     "metadata": {},
     "output_type": "execute_result"
    },
    {
     "data": {
      "image/png": "[encoded data removed]",
      "text/plain": [
       "<Figure size 640x480 with 1 Axes>"
      ]
     },
     "metadata": {},
     "output_type": "display_data"
    }
   ],
   "source": [
    "ax = sns.histplot(data= df, \n",
    "                  x= 'age', \n",
    "                  palette= {0: 'blue', 1: 'red'}, \n",
    "                  hue= 'exited', \n",
    "                  hue_order= [0, 1], \n",
    "                  kde= True)\n",
    "legend = ax.legend(labels= ['Yes', 'No'])\n",
    "legend.set_title('Exited')\n",
    "\n",
    "plt.title('Distribution of Age by Customer Exit Status')\n",
    "plt.xlabel('Age')"
   ]
  },
  {
   "cell_type": "markdown",
   "metadata": {},
   "source": [
    "The age desciption and histogram seem to indicate that former customers tend to be older than those who are still customers."
   ]
  },
  {
   "cell_type": "markdown",
   "metadata": {},
   "source": [
    "### 2.7 Tenure\n",
    "Let's examine our target against customers' tenures. First let's describe customer and former customer tenure, then check for correlation."
   ]
  },
  {
   "cell_type": "code",
   "execution_count": 30,
   "metadata": {},
   "outputs": [
    {
     "name": "stdout",
     "output_type": "stream",
     "text": [
      "Customer tenure:\n",
      "count    7963.000000\n",
      "mean        4.998744\n",
      "std         2.817081\n",
      "min         0.000000\n",
      "25%         3.000000\n",
      "50%         5.000000\n",
      "75%         7.000000\n",
      "max        10.000000\n",
      "Name: tenure, dtype: float64\n",
      "\n",
      "Former Customer tenure:\n",
      "count    2037.000000\n",
      "mean        4.879234\n",
      "std         2.878882\n",
      "min         0.000000\n",
      "25%         2.000000\n",
      "50%         5.000000\n",
      "75%         7.000000\n",
      "max        10.000000\n",
      "Name: tenure, dtype: float64\n",
      "\n"
     ]
    }
   ],
   "source": [
    "customer_tenure_describe = customer.tenure.describe()\n",
    "former_customer_tenure_describe = former_customer.tenure.describe()\n",
    "\n",
    "print(f'Customer tenure:\\n{customer_tenure_describe}\\n')\n",
    "print(f'Former Customer tenure:\\n{former_customer_tenure_describe}\\n')"
   ]
  },
  {
   "cell_type": "code",
   "execution_count": 31,
   "metadata": {},
   "outputs": [
    {
     "data": {
      "text/plain": [
       "np.float64(-0.017008531887356036)"
      ]
     },
     "execution_count": 31,
     "metadata": {},
     "output_type": "execute_result"
    }
   ],
   "source": [
    "df.exited.corr(df.tenure)"
   ]
  },
  {
   "cell_type": "code",
   "execution_count": 32,
   "metadata": {},
   "outputs": [
    {
     "data": {
      "text/plain": [
       "tenure\n",
       "0      91\n",
       "1     227\n",
       "2     202\n",
       "3     221\n",
       "4     211\n",
       "5     225\n",
       "6     206\n",
       "7     176\n",
       "8     186\n",
       "9     200\n",
       "10     92\n",
       "Name: exited, dtype: int64"
      ]
     },
     "execution_count": 32,
     "metadata": {},
     "output_type": "execute_result"
    }
   ],
   "source": [
    "df.groupby('tenure')['exited'].sum()"
   ]
  },
  {
   "cell_type": "code",
   "execution_count": 33,
   "metadata": {},
   "outputs": [
    {
     "data": {
      "text/plain": [
       "tenure\n",
       "0     0\n",
       "1     0\n",
       "2     0\n",
       "3     0\n",
       "4     0\n",
       "5     0\n",
       "6     0\n",
       "7     0\n",
       "8     0\n",
       "9     0\n",
       "10    0\n",
       "Name: exited, dtype: int64"
      ]
     },
     "execution_count": 33,
     "metadata": {},
     "output_type": "execute_result"
    }
   ],
   "source": [
    "customer.groupby('tenure')['exited'].sum()"
   ]
  },
  {
   "cell_type": "code",
   "execution_count": null,
   "metadata": {},
   "outputs": [],
   "source": []
  },
  {
   "cell_type": "code",
   "execution_count": 34,
   "metadata": {},
   "outputs": [
    {
     "data": {
      "text/plain": [
       "Text(1.8209861111111127, 0.5, 'Count')"
      ]
     },
     "execution_count": 34,
     "metadata": {},
     "output_type": "execute_result"
    },
    {
     "data": {
      "image/png": "[encoded data removed]",
      "text/plain": [
       "<Figure size 558.875x500 with 1 Axes>"
      ]
     },
     "metadata": {},
     "output_type": "display_data"
    }
   ],
   "source": [
    "sns.displot(data=df, \n",
    "            x= 'tenure', \n",
    "            hue= 'exited', \n",
    "            palette= {0: 'blue', 1: 'red'}, \n",
    "            multiple= 'stack', \n",
    "            kde= True) \n",
    "\n",
    "plt.title('Distribution of Tenure by Customer Exit Status')\n",
    "plt.xlabel('Tenure')\n",
    "plt.ylabel('Count')"
   ]
  },
  {
   "cell_type": "markdown",
   "metadata": {},
   "source": [
    "It doesn't seem like tenure has an impact on whether a customer exits."
   ]
  },
  {
   "cell_type": "markdown",
   "metadata": {},
   "source": [
    "### 2.8 Account Balance"
   ]
  },
  {
   "cell_type": "code",
   "execution_count": 35,
   "metadata": {},
   "outputs": [
    {
     "name": "stdout",
     "output_type": "stream",
     "text": [
      "Description of Customers' Balances:\n",
      "count      7963.000000\n",
      "mean      72745.296779\n",
      "std       62848.040701\n",
      "min           0.000000\n",
      "25%           0.000000\n",
      "50%       92072.680000\n",
      "75%      126410.280000\n",
      "max      221532.800000\n",
      "Name: balance, dtype: float64\n",
      "\n",
      "Description of Former Customers' Balances:\n",
      "count      2037.000000\n",
      "mean      91108.539337\n",
      "std       58360.794816\n",
      "min           0.000000\n",
      "25%       38340.020000\n",
      "50%      109349.290000\n",
      "75%      131433.330000\n",
      "max      250898.090000\n",
      "Name: balance, dtype: float64\n"
     ]
    }
   ],
   "source": [
    "print(\"Description of Customers' Balances:\")\n",
    "print(customer.balance.describe())\n",
    "print()\n",
    "print(\"Description of Former Customers' Balances:\")\n",
    "print(former_customer.balance.describe())"
   ]
  },
  {
   "cell_type": "code",
   "execution_count": 36,
   "metadata": {},
   "outputs": [
    {
     "data": {
      "text/plain": [
       "np.float64(0.11853276877163371)"
      ]
     },
     "execution_count": 36,
     "metadata": {},
     "output_type": "execute_result"
    }
   ],
   "source": [
    "df.exited.corr(df.balance)"
   ]
  },
  {
   "cell_type": "code",
   "execution_count": 37,
   "metadata": {},
   "outputs": [
    {
     "data": {
      "text/plain": [
       "<matplotlib.legend.Legend at 0x255ab2d6690>"
      ]
     },
     "execution_count": 37,
     "metadata": {},
     "output_type": "execute_result"
    },
    {
     "data": {
      "image/png": "[encoded data removed]",
      "text/plain": [
       "<Figure size 640x480 with 1 Axes>"
      ]
     },
     "metadata": {},
     "output_type": "display_data"
    }
   ],
   "source": [
    "sns.histplot(data=df, \n",
    "             x='balance', \n",
    "             hue='exited', \n",
    "             palette={0: 'blue', 1: 'red'}, \n",
    "             kde=True)\n",
    "\n",
    "plt.title('Distribution of Balance by Customer Exit Status')\n",
    "plt.xlabel('Balance (€)')\n",
    "plt.ylabel('Frequency') \n",
    "plt.legend(title='Exited', labels=['No', 'Yes'])"
   ]
  },
  {
   "cell_type": "markdown",
   "metadata": {},
   "source": [
    "### 2.9 Number of Products"
   ]
  },
  {
   "cell_type": "code",
   "execution_count": 38,
   "metadata": {},
   "outputs": [
    {
     "name": "stdout",
     "output_type": "stream",
     "text": [
      "Description of the Number of Products that Customers Use:\n",
      "count    7963.000000\n",
      "mean        1.544267\n",
      "std         0.509536\n",
      "min         1.000000\n",
      "25%         1.000000\n",
      "50%         2.000000\n",
      "75%         2.000000\n",
      "max         3.000000\n",
      "Name: num_of_products, dtype: float64\n",
      "\n",
      "Description of the Number of Products that Former Customers Used:\n",
      "count    2037.000000\n",
      "mean        1.475209\n",
      "std         0.801521\n",
      "min         1.000000\n",
      "25%         1.000000\n",
      "50%         1.000000\n",
      "75%         2.000000\n",
      "max         4.000000\n",
      "Name: num_of_products, dtype: float64\n"
     ]
    }
   ],
   "source": [
    "print(\"Description of the Number of Products that Customers Use:\")\n",
    "print(customer.num_of_products.describe())\n",
    "print()\n",
    "print(\"Description of the Number of Products that Former Customers Used:\") \n",
    "print(former_customer.num_of_products.describe())"
   ]
  },
  {
   "cell_type": "code",
   "execution_count": 39,
   "metadata": {},
   "outputs": [
    {
     "data": {
      "text/plain": [
       "np.float64(-0.04781986494944054)"
      ]
     },
     "execution_count": 39,
     "metadata": {},
     "output_type": "execute_result"
    }
   ],
   "source": [
    "df.exited.corr(df.num_of_products)"
   ]
  },
  {
   "cell_type": "code",
   "execution_count": 40,
   "metadata": {},
   "outputs": [
    {
     "data": {
      "text/plain": [
       "<Axes: xlabel='num_of_products', ylabel='Count'>"
      ]
     },
     "execution_count": 40,
     "metadata": {},
     "output_type": "execute_result"
    },
    {
     "data": {
      "image/png": "[encoded data removed]",
      "text/plain": [
       "<Figure size 640x480 with 1 Axes>"
      ]
     },
     "metadata": {},
     "output_type": "display_data"
    }
   ],
   "source": [
    "sns.histplot(data= df, \n",
    "            x= 'num_of_products', \n",
    "            hue= 'exited', \n",
    "            palette= {0: 'blue', 1: 'red'})"
   ]
  },
  {
   "cell_type": "markdown",
   "metadata": {},
   "source": [
    "### 2.10 Credit Card"
   ]
  },
  {
   "cell_type": "code",
   "execution_count": 41,
   "metadata": {},
   "outputs": [
    {
     "name": "stdout",
     "output_type": "stream",
     "text": [
      "Customers who have credit cards:\n",
      "has_credit_card\n",
      "1    5631\n",
      "0    2332\n",
      "Name: count, dtype: int64 \n",
      " 29.285445183975888 % do not have credit cards\n",
      "\n",
      "Former customers who have credit cards:\n",
      "has_credit_card\n",
      "1    1424\n",
      "0     613\n",
      "Name: count, dtype: int64 \n",
      " 30.09327442317133 % do not have credit cards\n"
     ]
    }
   ],
   "source": [
    "print('Customers who have credit cards:')\n",
    "print(customer.has_credit_card.value_counts(),\n",
    "      '\\n',\n",
    "      customer.has_credit_card.value_counts()[0] / customer.shape[0] * 100,'% do not have credit cards')\n",
    "print()\n",
    "print('Former customers who have credit cards:')\n",
    "print(former_customer.has_credit_card.value_counts(),\n",
    "      '\\n',\n",
    "      former_customer.has_credit_card.value_counts()[0] / former_customer.shape[0] * 100,'% do not have credit cards')"
   ]
  },
  {
   "cell_type": "code",
   "execution_count": 42,
   "metadata": {},
   "outputs": [
    {
     "data": {
      "text/plain": [
       "<matplotlib.legend.Legend at 0x255ab7033e0>"
      ]
     },
     "execution_count": 42,
     "metadata": {},
     "output_type": "execute_result"
    },
    {
     "data": {
      "image/png": "[encoded data removed]",
      "text/plain": [
       "<Figure size 640x480 with 1 Axes>"
      ]
     },
     "metadata": {},
     "output_type": "display_data"
    }
   ],
   "source": [
    "df_has_credit_card = df.groupby(['exited', 'has_credit_card']).size().reset_index(name='count') \n",
    "\n",
    "sns.barplot(data= df_has_credit_card, \n",
    "            x= 'exited', \n",
    "            y= 'count', \n",
    "            hue= 'has_credit_card', \n",
    "            palette= {1: 'blue', 0: 'red'})\n",
    "\n",
    "plt.title('Exited Customers by Credit Card Status')\n",
    "plt.xlabel('Exited') \n",
    "plt.ylabel('Count') \n",
    "plt.xticks(ticks= [0, 1], labels= ['No', 'Yes']) \n",
    "plt.legend(title='Has Credit Card')"
   ]
  },
  {
   "cell_type": "markdown",
   "metadata": {},
   "source": [
    "The ratio of individuals who don't have credit cards between customers and former customers is nearly identical, which suggests that having a credit card does not affect whether or not a customer leaves."
   ]
  },
  {
   "cell_type": "markdown",
   "metadata": {},
   "source": [
    "### 2.11 Active Members"
   ]
  },
  {
   "cell_type": "code",
   "execution_count": 43,
   "metadata": {},
   "outputs": [
    {
     "name": "stdout",
     "output_type": "stream",
     "text": [
      "Customers who are active members:\n",
      "is_active_member\n",
      "1    4416\n",
      "0    3547\n",
      "Name: count, dtype: int64 \n",
      " 44.543513751098835 % are not active members\n",
      "\n",
      "Former customers who are active members:\n",
      "is_active_member\n",
      "0    1302\n",
      "1     735\n",
      "Name: count, dtype: int64 \n",
      " 63.91752577319587 % are not active members\n"
     ]
    }
   ],
   "source": [
    "print('Customers who are active members:')\n",
    "print(customer.is_active_member.value_counts(),\n",
    "      '\\n',\n",
    "      customer.is_active_member.value_counts()[0] / customer.shape[0] * 100,'% are not active members')\n",
    "print()\n",
    "print('Former customers who are active members:')\n",
    "print(former_customer.is_active_member.value_counts(),\n",
    "      '\\n',\n",
    "      former_customer.is_active_member.value_counts()[0] / former_customer.shape[0] * 100,'% are not active members')"
   ]
  },
  {
   "cell_type": "code",
   "execution_count": 44,
   "metadata": {},
   "outputs": [
    {
     "data": {
      "text/plain": [
       "<matplotlib.legend.Legend at 0x255ab76c5f0>"
      ]
     },
     "execution_count": 44,
     "metadata": {},
     "output_type": "execute_result"
    },
    {
     "data": {
      "image/png": "[encoded data removed]",
      "text/plain": [
       "<Figure size 640x480 with 1 Axes>"
      ]
     },
     "metadata": {},
     "output_type": "display_data"
    }
   ],
   "source": [
    "df_is_active = df.groupby(['exited', 'is_active_member']).size().reset_index(name='count') \n",
    "\n",
    "sns.barplot(data= df_is_active, \n",
    "            x= 'exited', \n",
    "            y= 'count', \n",
    "            hue= 'is_active_member', \n",
    "            palette= {1: 'blue', 0: 'red'})\n",
    "\n",
    "plt.title('Exited Customers by Active Member Status')\n",
    "plt.xlabel('Exited') \n",
    "plt.ylabel('Count') \n",
    "plt.xticks(ticks= [0, 1], labels= ['No', 'Yes']) \n",
    "plt.legend(title='Is Active Member')"
   ]
  },
  {
   "cell_type": "code",
   "execution_count": 45,
   "metadata": {},
   "outputs": [
    {
     "data": {
      "text/html": [
       "<div>\n",
       "<style scoped>\n",
       "    .dataframe tbody tr th:only-of-type {\n",
       "        vertical-align: middle;\n",
       "    }\n",
       "\n",
       "    .dataframe tbody tr th {\n",
       "        vertical-align: top;\n",
       "    }\n",
       "\n",
       "    .dataframe thead th {\n",
       "        text-align: right;\n",
       "    }\n",
       "</style>\n",
       "<table border=\"1\" class=\"dataframe\">\n",
       "  <thead>\n",
       "    <tr style=\"text-align: right;\">\n",
       "      <th></th>\n",
       "      <th>credit_score</th>\n",
       "      <th>age</th>\n",
       "      <th>tenure</th>\n",
       "      <th>balance</th>\n",
       "      <th>num_of_products</th>\n",
       "      <th>has_credit_card</th>\n",
       "      <th>is_active_member</th>\n",
       "      <th>estimated_salary</th>\n",
       "      <th>exited</th>\n",
       "      <th>germany</th>\n",
       "      <th>spain</th>\n",
       "      <th>sex</th>\n",
       "    </tr>\n",
       "  </thead>\n",
       "  <tbody>\n",
       "    <tr>\n",
       "      <th>0</th>\n",
       "      <td>619</td>\n",
       "      <td>42</td>\n",
       "      <td>2</td>\n",
       "      <td>0.00</td>\n",
       "      <td>1</td>\n",
       "      <td>1</td>\n",
       "      <td>1</td>\n",
       "      <td>101348.88</td>\n",
       "      <td>1</td>\n",
       "      <td>False</td>\n",
       "      <td>False</td>\n",
       "      <td>False</td>\n",
       "    </tr>\n",
       "    <tr>\n",
       "      <th>1</th>\n",
       "      <td>608</td>\n",
       "      <td>41</td>\n",
       "      <td>1</td>\n",
       "      <td>83807.86</td>\n",
       "      <td>1</td>\n",
       "      <td>0</td>\n",
       "      <td>1</td>\n",
       "      <td>112542.58</td>\n",
       "      <td>0</td>\n",
       "      <td>False</td>\n",
       "      <td>True</td>\n",
       "      <td>False</td>\n",
       "    </tr>\n",
       "    <tr>\n",
       "      <th>2</th>\n",
       "      <td>502</td>\n",
       "      <td>42</td>\n",
       "      <td>8</td>\n",
       "      <td>159660.80</td>\n",
       "      <td>3</td>\n",
       "      <td>1</td>\n",
       "      <td>0</td>\n",
       "      <td>113931.57</td>\n",
       "      <td>1</td>\n",
       "      <td>False</td>\n",
       "      <td>False</td>\n",
       "      <td>False</td>\n",
       "    </tr>\n",
       "    <tr>\n",
       "      <th>3</th>\n",
       "      <td>699</td>\n",
       "      <td>39</td>\n",
       "      <td>1</td>\n",
       "      <td>0.00</td>\n",
       "      <td>2</td>\n",
       "      <td>0</td>\n",
       "      <td>0</td>\n",
       "      <td>93826.63</td>\n",
       "      <td>0</td>\n",
       "      <td>False</td>\n",
       "      <td>False</td>\n",
       "      <td>False</td>\n",
       "    </tr>\n",
       "    <tr>\n",
       "      <th>4</th>\n",
       "      <td>850</td>\n",
       "      <td>43</td>\n",
       "      <td>2</td>\n",
       "      <td>125510.82</td>\n",
       "      <td>1</td>\n",
       "      <td>1</td>\n",
       "      <td>1</td>\n",
       "      <td>79084.10</td>\n",
       "      <td>0</td>\n",
       "      <td>False</td>\n",
       "      <td>True</td>\n",
       "      <td>False</td>\n",
       "    </tr>\n",
       "  </tbody>\n",
       "</table>\n",
       "</div>"
      ],
      "text/plain": [
       "   credit_score  age  tenure    balance  num_of_products  has_credit_card  \\\n",
       "0           619   42       2       0.00                1                1   \n",
       "1           608   41       1   83807.86                1                0   \n",
       "2           502   42       8  159660.80                3                1   \n",
       "3           699   39       1       0.00                2                0   \n",
       "4           850   43       2  125510.82                1                1   \n",
       "\n",
       "   is_active_member  estimated_salary  exited  germany  spain    sex  \n",
       "0                 1         101348.88       1    False  False  False  \n",
       "1                 1         112542.58       0    False   True  False  \n",
       "2                 0         113931.57       1    False  False  False  \n",
       "3                 0          93826.63       0    False  False  False  \n",
       "4                 1          79084.10       0    False   True  False  "
      ]
     },
     "execution_count": 45,
     "metadata": {},
     "output_type": "execute_result"
    }
   ],
   "source": [
    "df.head()"
   ]
  },
  {
   "cell_type": "markdown",
   "metadata": {},
   "source": [
    "### 2.12 Estimated Salary "
   ]
  },
  {
   "cell_type": "code",
   "execution_count": 46,
   "metadata": {},
   "outputs": [
    {
     "name": "stdout",
     "output_type": "stream",
     "text": [
      "Description of customers' estimated salaries:\n",
      "count      7963.000000\n",
      "mean      99738.391772\n",
      "std       57405.586966\n",
      "min          90.070000\n",
      "25%       50783.490000\n",
      "50%       99645.040000\n",
      "75%      148609.955000\n",
      "max      199992.480000\n",
      "Name: estimated_salary, dtype: float64 \n",
      "\n",
      "Description of former customers' estimated salaries:\n",
      "count      2037.000000\n",
      "mean     101465.677531\n",
      "std       57912.418071\n",
      "min          11.580000\n",
      "25%       51907.720000\n",
      "50%      102460.840000\n",
      "75%      152422.910000\n",
      "max      199808.100000\n",
      "Name: estimated_salary, dtype: float64\n"
     ]
    }
   ],
   "source": [
    "print('Description of customers\\' estimated salaries:')\n",
    "print(customer.estimated_salary.describe(), '\\n')\n",
    "print('Description of former customers\\' estimated salaries:')\n",
    "print(former_customer.estimated_salary.describe())"
   ]
  },
  {
   "cell_type": "code",
   "execution_count": 47,
   "metadata": {},
   "outputs": [
    {
     "data": {
      "text/plain": [
       "np.float64(0.01209686102684467)"
      ]
     },
     "execution_count": 47,
     "metadata": {},
     "output_type": "execute_result"
    }
   ],
   "source": [
    "df.exited.corr(df.estimated_salary)"
   ]
  },
  {
   "cell_type": "code",
   "execution_count": 48,
   "metadata": {},
   "outputs": [
    {
     "data": {
      "text/plain": [
       "Text(0, 0.5, 'Frequency')"
      ]
     },
     "execution_count": 48,
     "metadata": {},
     "output_type": "execute_result"
    },
    {
     "data": {
      "image/png": "[encoded data removed]",
      "text/plain": [
       "<Figure size 640x480 with 1 Axes>"
      ]
     },
     "metadata": {},
     "output_type": "display_data"
    }
   ],
   "source": [
    "sns.histplot(data= df, \n",
    "             x= 'estimated_salary', \n",
    "             hue= 'exited', \n",
    "             palette= {0: 'blue', 1: 'red'}, \n",
    "             kde= True, \n",
    "             legend= False, \n",
    "             alpha= 0.5)\n",
    "\n",
    "plt.title('Distribution of Estimated Salary by Customer Exit Status')\n",
    "plt.xlabel('Estimated Salary (€)') \n",
    "plt.ylabel('Frequency')"
   ]
  },
  {
   "cell_type": "markdown",
   "metadata": {},
   "source": [
    "There seems to be a relatively even dispersion of estimated salaries between both current and former customers. Nothing suggests that this feature has an impact on customer exit status."
   ]
  },
  {
   "cell_type": "markdown",
   "metadata": {},
   "source": [
    "### 2.13 EDA Conclusion \n",
    "Overall, country, age, and customer activity seem to impact whether or not customers leave. Country seems to have the strongest influence - specifically Germany where the exit rate is twice as high as the other two countries in the data (France and Spain)."
   ]
  },
  {
   "cell_type": "markdown",
   "metadata": {},
   "source": [
    "# 3.0 Model \n",
    "Recall in subsection 2.2, we found that 20.37% of customers have left. As this constitutes the lesser of the two classes, this is our minority group. First let's train a model without taking into account class imbalance and briefly describe what we find from that. After that, we'll improve the quality of the model by using two approaches to addressing class imbalance. Based on our findings, we'll choose the better of the two and then perform a final testing."
   ]
  },
  {
   "cell_type": "markdown",
   "metadata": {},
   "source": [
    "### 3.1 Unbalanced Classes"
   ]
  },
  {
   "cell_type": "code",
   "execution_count": 49,
   "metadata": {},
   "outputs": [],
   "source": [
    "features = df.drop('exited', axis= 1)\n",
    "target= df.exited\n",
    "features_train_valid, features_test, target_train_valid, target_test = train_test_split(features, \n",
    "                                                                              target, \n",
    "                                                                              test_size= 0.2, \n",
    "                                                                              random_state= 12345) \n",
    "\n",
    "features_train, features_valid, target_train, target_valid = train_test_split(features_train_valid, \n",
    "                                                                              target_train_valid, \n",
    "                                                                              test_size= 0.25, \n",
    "                                                                              random_state= 12345) \n"
   ]
  },
  {
   "cell_type": "code",
   "execution_count": 50,
   "metadata": {},
   "outputs": [
    {
     "name": "stdout",
     "output_type": "stream",
     "text": [
      "(6000, 11)\n",
      "(2000, 11)\n",
      "(2000, 11)\n"
     ]
    }
   ],
   "source": [
    "print(features_train.shape)\n",
    "print(features_valid.shape)\n",
    "print(features_test.shape)"
   ]
  },
  {
   "cell_type": "markdown",
   "metadata": {},
   "source": [
    "#### Performance Metrics \n",
    "Accuracy, precision, recall, and F1-score are commonly used performance metrics to evaluate the effectiveness of a classification model. These metrics provide insights into different aspects of the model’s performance in predicting class labels.[1]\n",
    "\n",
    "[1] machinelearning.org.in (2024, October 3). *Accuracy, precision, recall, and F1-score*. Machine Learning Tutorials, Courses and Certifications, paragraph 1. https://machinelearning.org.in/accuracy-precision-recall-and-f1-score/ "
   ]
  },
  {
   "cell_type": "code",
   "execution_count": 51,
   "metadata": {},
   "outputs": [
    {
     "name": "stdout",
     "output_type": "stream",
     "text": [
      "Accuracy: 0.7965\n",
      "F1: 0.13588110403397027\n"
     ]
    }
   ],
   "source": [
    "logreg_model = LogisticRegression(solver= 'liblinear', random_state= 12345) \n",
    "logreg_model.fit(features, target) \n",
    "predicted_valid = logreg_model.predict(features_valid)\n",
    "accuracy = accuracy_score(target_valid, predicted_valid)\n",
    "\n",
    "print(f'Accuracy: {accuracy}')\n",
    "print('F1:', f1_score(target_valid, predicted_valid))"
   ]
  },
  {
   "cell_type": "code",
   "execution_count": 52,
   "metadata": {},
   "outputs": [
    {
     "data": {
      "text/plain": [
       "array([[1561,   48],\n",
       "       [ 359,   32]])"
      ]
     },
     "execution_count": 52,
     "metadata": {},
     "output_type": "execute_result"
    }
   ],
   "source": [
    "matrix = confusion_matrix(target_valid, predicted_valid)\n",
    "matrix"
   ]
  },
  {
   "cell_type": "code",
   "execution_count": 53,
   "metadata": {},
   "outputs": [
    {
     "data": {
      "image/png": "[encoded data removed]",
      "text/plain": [
       "<Figure size 640x480 with 1 Axes>"
      ]
     },
     "metadata": {},
     "output_type": "display_data"
    }
   ],
   "source": [
    "precision, recall, _ = precision_recall_curve(target_valid, predicted_valid)\n",
    "disp = PrecisionRecallDisplay(precision=precision, recall=recall)\n",
    "disp.plot()\n",
    "\n",
    "plt.title('PR Curve')\n",
    "plt.show()"
   ]
  },
  {
   "cell_type": "code",
   "execution_count": 54,
   "metadata": {},
   "outputs": [
    {
     "name": "stdout",
     "output_type": "stream",
     "text": [
      "AUC-ROC score: 0.6912301170366815\n"
     ]
    }
   ],
   "source": [
    "probabilities_valid = logreg_model.predict_proba(features_valid)\n",
    "probabilities_one_valid = probabilities_valid[:, 1]\n",
    "\n",
    "fpr, tpr, thresholds = roc_curve(target_valid, probabilities_one_valid)\n",
    "\n",
    "auc_roc = roc_auc_score(target_valid, probabilities_one_valid)\n",
    "\n",
    "print(f'AUC-ROC score: {auc_roc}')"
   ]
  },
  {
   "cell_type": "code",
   "execution_count": 55,
   "metadata": {},
   "outputs": [
    {
     "data": {
      "image/png": "[encoded data removed]",
      "text/plain": [
       "<Figure size 800x600 with 1 Axes>"
      ]
     },
     "metadata": {},
     "output_type": "display_data"
    }
   ],
   "source": [
    "plt.figure(figsize=(8, 6))\n",
    "plt.plot([0, 1], [0, 1], linestyle='--', label='Random Model')\n",
    "plt.plot(fpr, tpr, label='ROC Curve')\n",
    "plt.xlim([0.0, 1.0])\n",
    "plt.ylim([0.0, 1.0])\n",
    "plt.xlabel('False Positive Rate')\n",
    "plt.ylabel('True Positive Rate')\n",
    "plt.title('ROC Curve')\n",
    "plt.legend()\n",
    "plt.show()"
   ]
  },
  {
   "cell_type": "markdown",
   "metadata": {},
   "source": [
    "### 3.2 Upsampled"
   ]
  },
  {
   "cell_type": "code",
   "execution_count": 56,
   "metadata": {},
   "outputs": [
    {
     "data": {
      "text/plain": [
       "((9657, 11), (9657,))"
      ]
     },
     "execution_count": 56,
     "metadata": {},
     "output_type": "execute_result"
    }
   ],
   "source": [
    "def upsample(features, target, repeat):\n",
    "    features_zeros = features[target == 0]\n",
    "    features_ones = features[target == 1]\n",
    "    target_zeros = target[target == 0]\n",
    "    target_ones = target[target == 1]\n",
    "\n",
    "    features_upsampled = pd.concat([features_zeros] + [features_ones] * repeat)\n",
    "    target_upsampled = pd.concat([target_zeros] + [target_ones] * repeat)\n",
    "\n",
    "    features_upsampled, target_upsampled = shuffle(features_upsampled, \n",
    "                                                   target_upsampled, \n",
    "                                                   random_state=12345)\n",
    "\n",
    "    return features_upsampled, target_upsampled\n",
    "\n",
    "\n",
    "features_upsampled, target_upsampled = upsample(features_train, \n",
    "                                                target_train, \n",
    "                                                4)\n",
    "\n",
    "features_upsampled.shape,target_upsampled.shape"
   ]
  },
  {
   "cell_type": "code",
   "execution_count": 57,
   "metadata": {},
   "outputs": [
    {
     "data": {
      "text/plain": [
       "0.5938375350140056"
      ]
     },
     "execution_count": 57,
     "metadata": {},
     "output_type": "execute_result"
    }
   ],
   "source": [
    "ranfor_model = RandomForestClassifier(n_estimators= 120, \n",
    "                                      random_state= 12345) \n",
    "ranfor_model.fit(features_upsampled, \n",
    "                     target_upsampled)\n",
    "ranfor_predict = ranfor_model.predict(features_valid)\n",
    "f1_score(target_valid,ranfor_predict)"
   ]
  },
  {
   "cell_type": "code",
   "execution_count": 58,
   "metadata": {},
   "outputs": [
    {
     "data": {
      "text/plain": [
       "array([[1498,  111],\n",
       "       [ 179,  212]])"
      ]
     },
     "execution_count": 58,
     "metadata": {},
     "output_type": "execute_result"
    }
   ],
   "source": [
    "matrix = confusion_matrix(target_valid, ranfor_predict)\n",
    "matrix"
   ]
  },
  {
   "cell_type": "code",
   "execution_count": 59,
   "metadata": {},
   "outputs": [
    {
     "data": {
      "image/png": "[encoded data removed]",
      "text/plain": [
       "<Figure size 640x480 with 1 Axes>"
      ]
     },
     "metadata": {},
     "output_type": "display_data"
    }
   ],
   "source": [
    "precision, recall, _ = precision_recall_curve(target_valid, ranfor_predict)\n",
    "disp = PrecisionRecallDisplay(precision=precision, recall=recall)\n",
    "disp.plot()\n",
    "\n",
    "plt.title('PR Curve')\n",
    "plt.show()"
   ]
  },
  {
   "cell_type": "code",
   "execution_count": 60,
   "metadata": {},
   "outputs": [
    {
     "name": "stdout",
     "output_type": "stream",
     "text": [
      "AUC-ROC score: 0.8428771027420886\n"
     ]
    }
   ],
   "source": [
    "probabilities_valid = ranfor_model.predict_proba(features_valid)\n",
    "probabilities_one_valid = probabilities_valid[:, 1]\n",
    "\n",
    "fpr, tpr, thresholds = roc_curve(target_valid, probabilities_one_valid)\n",
    "\n",
    "\n",
    "\n",
    "auc_roc = roc_auc_score(target_valid, probabilities_one_valid)\n",
    "\n",
    "print(f'AUC-ROC score: {auc_roc}')"
   ]
  },
  {
   "cell_type": "code",
   "execution_count": 61,
   "metadata": {},
   "outputs": [
    {
     "data": {
      "image/png": "[encoded data removed]",
      "text/plain": [
       "<Figure size 800x600 with 1 Axes>"
      ]
     },
     "metadata": {},
     "output_type": "display_data"
    }
   ],
   "source": [
    "plt.figure(figsize=(8, 6))\n",
    "plt.plot([0, 1], [0, 1], linestyle='--', label='Random Model')\n",
    "plt.plot(fpr, tpr, label='ROC Curve')\n",
    "plt.xlim([0.0, 1.0])\n",
    "plt.ylim([0.0, 1.0])\n",
    "plt.xlabel('False Positive Rate')\n",
    "plt.ylabel('True Positive Rate')\n",
    "plt.title('ROC Curve')\n",
    "plt.legend()\n",
    "plt.show()"
   ]
  },
  {
   "cell_type": "markdown",
   "metadata": {},
   "source": [
    "### 3.3 Downsampled"
   ]
  },
  {
   "cell_type": "code",
   "execution_count": 62,
   "metadata": {},
   "outputs": [
    {
     "data": {
      "text/plain": [
       "((2175, 11), (2175,))"
      ]
     },
     "execution_count": 62,
     "metadata": {},
     "output_type": "execute_result"
    }
   ],
   "source": [
    "def downsample(features, target, fraction):\n",
    "    features_zeros = features[target == 0]\n",
    "    features_ones = features[target == 1]\n",
    "    target_zeros = target[target == 0]\n",
    "    target_ones = target[target == 1]\n",
    "\n",
    "    features_downsampled = pd.concat(\n",
    "        [features_zeros.sample(frac=fraction, random_state=12345)]\n",
    "        + [features_ones]\n",
    "    )\n",
    "    target_downsampled = pd.concat(\n",
    "        [target_zeros.sample(frac=fraction, random_state=12345)]\n",
    "        + [target_ones]\n",
    "    )\n",
    "\n",
    "    features_downsampled, target_downsampled = shuffle(\n",
    "        features_downsampled, target_downsampled, random_state=12345\n",
    "    )\n",
    "\n",
    "    return features_downsampled, target_downsampled\n",
    "\n",
    "\n",
    "features_downsampled, target_downsampled = downsample(\n",
    "    features_train, target_train, 0.2\n",
    ")\n",
    "\n",
    "features_downsampled.shape,target_downsampled.shape\n"
   ]
  },
  {
   "cell_type": "code",
   "execution_count": 63,
   "metadata": {},
   "outputs": [
    {
     "name": "stdout",
     "output_type": "stream",
     "text": [
      "max_depth = 1: Accuracy: 0.8045, F1: 0.0\n",
      "max_depth = 2: Accuracy: 0.8325, F1: 0.5037037037037037\n",
      "max_depth = 3: Accuracy: 0.843, F1: 0.3938223938223938\n",
      "max_depth = 4: Accuracy: 0.8495, F1: 0.4331450094161959\n",
      "max_depth = 5: Accuracy: 0.855, F1: 0.5510835913312694\n",
      "max_depth = 6: Accuracy: 0.86, F1: 0.5138888888888888\n",
      "max_depth = 7: Accuracy: 0.859, F1: 0.5579937304075235\n",
      "max_depth = 8: Accuracy: 0.85, F1: 0.5412844036697247\n",
      "max_depth = 9: Accuracy: 0.844, F1: 0.5343283582089552\n",
      "max_depth = 10: Accuracy: 0.8395, F1: 0.5341074020319303\n",
      "max_depth = 11: Accuracy: 0.8335, F1: 0.5180897250361794\n",
      "max_depth = 12: Accuracy: 0.8275, F1: 0.5035971223021583\n",
      "max_depth = 13: Accuracy: 0.815, F1: 0.4931506849315068\n",
      "max_depth = 14: Accuracy: 0.8125, F1: 0.4993324432576769\n",
      "max_depth = 15: Accuracy: 0.814, F1: 0.5013404825737265\n",
      "max_depth = 16: Accuracy: 0.8085, F1: 0.4993464052287582\n",
      "max_depth = 17: Accuracy: 0.803, F1: 0.4909560723514212\n",
      "max_depth = 18: Accuracy: 0.7985, F1: 0.48792884371029227\n",
      "max_depth = 19: Accuracy: 0.795, F1: 0.4796954314720812\n",
      "max_depth = 20: Accuracy: 0.793, F1: 0.4798994974874372\n",
      "\n",
      "Best max_depth: 7 with F1: 0.5579937304075235\n"
     ]
    }
   ],
   "source": [
    "best_depth = 0\n",
    "best_f1 = 0\n",
    "\n",
    "for depth in range(1, 21): \n",
    "    dectree_model = DecisionTreeClassifier(random_state=12345, \n",
    "                                           max_depth=depth)\n",
    "    dectree_model.fit(features_train, \n",
    "                      target_train) \n",
    "    \n",
    "    predicted_valid = dectree_model.predict(features_valid)\n",
    "    accuracy = accuracy_score(target_valid, \n",
    "                              predicted_valid)\n",
    "    f1_dectree = f1_score(target_valid, \n",
    "                          predicted_valid)\n",
    "    \n",
    "    print(f\"max_depth = {depth}: Accuracy: {accuracy}, F1: {f1_dectree}\")\n",
    "    \n",
    "    if f1_dectree > best_f1:\n",
    "        best_f1 = f1_dectree\n",
    "        best_depth = depth\n",
    "\n",
    "print(f\"\\nBest max_depth: {best_depth} with F1: {best_f1}\")"
   ]
  },
  {
   "cell_type": "code",
   "execution_count": 64,
   "metadata": {},
   "outputs": [
    {
     "data": {
      "text/plain": [
       "array([[1395,  214],\n",
       "       [ 200,  191]])"
      ]
     },
     "execution_count": 64,
     "metadata": {},
     "output_type": "execute_result"
    }
   ],
   "source": [
    "matrix_dectree = confusion_matrix(target_valid, predicted_valid)\n",
    "matrix_dectree"
   ]
  },
  {
   "cell_type": "code",
   "execution_count": 65,
   "metadata": {},
   "outputs": [
    {
     "data": {
      "image/png": "[encoded data removed]",
      "text/plain": [
       "<Figure size 640x480 with 1 Axes>"
      ]
     },
     "metadata": {},
     "output_type": "display_data"
    }
   ],
   "source": [
    "precision_dectree, recall_dectree, _ = precision_recall_curve(target_valid, predicted_valid)\n",
    "disp = PrecisionRecallDisplay(precision= precision_dectree, recall= recall_dectree)\n",
    "disp.plot()\n",
    "\n",
    "plt.title('PR Curve')\n",
    "plt.show()"
   ]
  },
  {
   "cell_type": "code",
   "execution_count": 66,
   "metadata": {},
   "outputs": [
    {
     "name": "stdout",
     "output_type": "stream",
     "text": [
      "AUC-ROC score: 0.6830901625924507\n"
     ]
    }
   ],
   "source": [
    "probabilities_dectree = dectree_model.predict_proba(features_valid)\n",
    "probabilities_one_dectree = probabilities_dectree[:, 1]\n",
    "\n",
    "dectree_fpr, dectree_tpr, dectree_thresholds = roc_curve(target_valid, probabilities_one_dectree)\n",
    "\n",
    "auc_roc = roc_auc_score(target_valid, probabilities_one_dectree)\n",
    "\n",
    "print(f'AUC-ROC score: {auc_roc}')"
   ]
  },
  {
   "cell_type": "code",
   "execution_count": 67,
   "metadata": {},
   "outputs": [
    {
     "data": {
      "image/png": "[encoded data removed]",
      "text/plain": [
       "<Figure size 800x600 with 1 Axes>"
      ]
     },
     "metadata": {},
     "output_type": "display_data"
    }
   ],
   "source": [
    "plt.figure(figsize=(8, 6))\n",
    "plt.plot([0, 1], [0, 1], linestyle='--', label='Random Model')\n",
    "plt.plot(dectree_fpr, dectree_tpr, label='ROC Curve')\n",
    "plt.xlim([0.0, 1.0])\n",
    "plt.ylim([0.0, 1.0])\n",
    "plt.xlabel('False Positive Rate')\n",
    "plt.ylabel('True Positive Rate')\n",
    "plt.title('ROC Curve')\n",
    "plt.legend()\n",
    "plt.show()"
   ]
  },
  {
   "cell_type": "code",
   "execution_count": null,
   "metadata": {},
   "outputs": [],
   "source": []
  },
  {
   "cell_type": "markdown",
   "metadata": {},
   "source": [
    "# 4.0 Testing"
   ]
  },
  {
   "cell_type": "code",
   "execution_count": 68,
   "metadata": {},
   "outputs": [
    {
     "name": "stdout",
     "output_type": "stream",
     "text": [
      "Accuracy: 1.0\n",
      "F1: 1.0\n"
     ]
    }
   ],
   "source": [
    "features_full = pd.concat([features_train,features_valid])\n",
    "target_full =  pd.concat([target_train,target_valid])\n",
    "\n",
    "\n",
    "test_model = RandomForestClassifier(n_estimators= 81, \n",
    "                                    random_state= 12345)\n",
    "test_model = test_model.fit(features_test, target_test)\n",
    "\n",
    "predicted_test = test_model.predict(features_test)\n",
    "test_accuracy = accuracy_score(target_test, predicted_test)\n",
    "\n",
    "print(f'Accuracy: {test_accuracy}')\n",
    "print('F1:', f1_score(target_test, predicted_test))"
   ]
  },
  {
   "cell_type": "code",
   "execution_count": 69,
   "metadata": {},
   "outputs": [
    {
     "data": {
      "text/plain": [
       "array([[1573,    0],\n",
       "       [   0,  427]])"
      ]
     },
     "execution_count": 69,
     "metadata": {},
     "output_type": "execute_result"
    }
   ],
   "source": [
    "test_matrix = confusion_matrix(target_test, predicted_test) \n",
    "test_matrix"
   ]
  },
  {
   "cell_type": "code",
   "execution_count": 70,
   "metadata": {},
   "outputs": [
    {
     "data": {
      "image/png": "[encoded data removed]",
      "text/plain": [
       "<Figure size 640x480 with 1 Axes>"
      ]
     },
     "metadata": {},
     "output_type": "display_data"
    }
   ],
   "source": [
    "test_precision, test_recall, _ = precision_recall_curve(target_test, predicted_test)\n",
    "disp = PrecisionRecallDisplay(precision=test_precision, recall=test_recall)\n",
    "disp.plot()\n",
    "\n",
    "plt.title('PR Curve')\n",
    "plt.show()"
   ]
  },
  {
   "cell_type": "code",
   "execution_count": 71,
   "metadata": {},
   "outputs": [
    {
     "name": "stdout",
     "output_type": "stream",
     "text": [
      "AUC-ROC score: 0.5018498639959147\n"
     ]
    }
   ],
   "source": [
    "test_probabilities = logreg_model.predict_proba(features_valid)\n",
    "test_probabilities_one = test_probabilities[:, 1]\n",
    "\n",
    "test_fpr, test_tpr, test_thresholds = roc_curve(target_test, test_probabilities_one)\n",
    "\n",
    "auc_roc = roc_auc_score(target_test, test_probabilities_one)\n",
    "\n",
    "print(f'AUC-ROC score: {auc_roc}')"
   ]
  },
  {
   "cell_type": "code",
   "execution_count": 72,
   "metadata": {},
   "outputs": [
    {
     "data": {
      "image/png": "[encoded data removed]",
      "text/plain": [
       "<Figure size 800x600 with 1 Axes>"
      ]
     },
     "metadata": {},
     "output_type": "display_data"
    }
   ],
   "source": [
    "plt.figure(figsize=(8, 6))\n",
    "plt.plot([0, 1], [0, 1], linestyle='--', label='Random Model')\n",
    "plt.plot(test_fpr, test_tpr, label='ROC Curve')\n",
    "plt.xlim([0.0, 1.0])\n",
    "plt.ylim([0.0, 1.0])\n",
    "plt.xlabel('False Positive Rate')\n",
    "plt.ylabel('True Positive Rate')\n",
    "plt.title('ROC Curve')\n",
    "plt.legend()\n",
    "plt.show()"
   ]
  },
  {
   "cell_type": "markdown",
   "metadata": {},
   "source": []
  }
 ],
 "metadata": {
  "kernelspec": {
   "display_name": "notebook-",
   "language": "python",
   "name": "python3"
  },
  "language_info": {
   "codemirror_mode": {
    "name": "ipython",
    "version": 3
   },
   "file_extension": ".py",
   "mimetype": "text/x-python",
   "name": "python",
   "nbconvert_exporter": "python",
   "pygments_lexer": "ipython3",
   "version": "3.12.9"
  }
 },
 "nbformat": 4,
 "nbformat_minor": 2
}
